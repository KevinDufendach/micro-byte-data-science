{
  "nbformat": 4,
  "nbformat_minor": 0,
  "metadata": {
    "colab": {
      "name": "A Micro-Byte of Data Science - Practice 1",
      "provenance": [],
      "collapsed_sections": [],
      "authorship_tag": "ABX9TyN1YBGqYkGZr71zyM0zs3Q0",
      "include_colab_link": true
    },
    "kernelspec": {
      "name": "python3",
      "display_name": "Python 3"
    }
  },
  "cells": [
    {
      "cell_type": "markdown",
      "metadata": {
        "id": "view-in-github",
        "colab_type": "text"
      },
      "source": [
        "<a href=\"https://colab.research.google.com/github/KevinDufendach/micro-byte-data-science/blob/lesson-1/A_Micro_Byte_of_Data_Science_Practice_1.ipynb\" target=\"_parent\"><img src=\"https://colab.research.google.com/assets/colab-badge.svg\" alt=\"Open In Colab\"/></a>"
      ]
    },
    {
      "cell_type": "markdown",
      "metadata": {
        "id": "dL3Iamfs54ii"
      },
      "source": [
        "# A Micro-Byte of Data Science\r\n",
        "Lesson 1 - An Introduction to Python and CoLab"
      ]
    },
    {
      "cell_type": "markdown",
      "metadata": {
        "id": "vRuxdA_r6cq2"
      },
      "source": [
        "# Lesson 1: Introduction to CoLab/Jupyter Notebooks\r\n",
        "\r\n",
        "## Learning Objectives\r\n",
        "By the end of this lesson, you will be able to:\r\n",
        "\r\n",
        "1. List benefits of using data science tools\r\n",
        "1. Describe the Notebook environment\r\n",
        "1. Demonstrate the use of Python variables for simple arithmetic\r\n",
        "1. Create basic markdown cells\r\n",
        "1. Load an external library as a dependency\r\n",
        "1. Import an example dataset into a Notebook\r\n",
        "1. Access specific columns and cells of data\r\n",
        "1. Display basic statistics about imported data\r\n",
        "1. Create a histogram plot of a section of data"
      ]
    },
    {
      "cell_type": "markdown",
      "metadata": {
        "id": "6sX3m-5i6hrn"
      },
      "source": [
        "## Welcome to Python and CoLab\r\n",
        "\r\n",
        "<table>\r\n",
        "<tr style=\"background: white\">\r\n",
        "  <td><img style=\"height: 100%; width: auto;\" src=\"https://www.python.org/static/community_logos/python-logo.png\"></td>\r\n",
        "  <td><img src=\"https://colab.research.google.com/img/colab_favicon_256px.png\"></td>\r\n",
        "  <td><img src=\"https://upload.wikimedia.org/wikipedia/commons/3/38/Jupyter_logo.svg\" width=\"103\" height=\"120\"></td>\r\n",
        "</tr>\r\n",
        "</table>\r\n",
        "\r\n",
        "### Python\r\n",
        "\r\n",
        "Benefits of Python:\r\n",
        "* General purpose\r\n",
        "* Open source & free!\r\n",
        "* Designed for Readability\r\n",
        "* Many pre-built applications and packages\r\n",
        "* Available in online tools (e.g. CoLab)\r\n"
      ]
    },
    {
      "cell_type": "markdown",
      "metadata": {
        "id": "R0jv9mfx9lO-"
      },
      "source": [
        "## Hands-On Practice"
      ]
    },
    {
      "cell_type": "markdown",
      "metadata": {
        "id": "hTudFqh89hSY"
      },
      "source": [
        "Your first Python command:\r\n",
        "\r\n",
        "In the cell below, type \"print(7 + 3)\" and then click on the play/run button. You should see the result, \"10\", in the area below."
      ]
    },
    {
      "cell_type": "code",
      "metadata": {
        "colab": {
          "base_uri": "https://localhost:8080/"
        },
        "id": "dvKJQbd85L5F",
        "outputId": "bc927029-fc65-4c63-9638-55ad7a1612f9"
      },
      "source": [
        "print(7 + 3)"
      ],
      "execution_count": 1,
      "outputs": [
        {
          "output_type": "stream",
          "text": [
            "10\n"
          ],
          "name": "stdout"
        }
      ]
    },
    {
      "cell_type": "markdown",
      "metadata": {
        "id": "OCYwBloo94f9"
      },
      "source": [
        "Congratulations! You've just executed your first line of Python code!\r\n",
        "\r\n",
        "Let's continue to explore Python as a calculator. Here are some other arthmetic operations to try:\r\n",
        "\r\n",
        "| Syntax | Operand |\r\n",
        "|--------|---------|\r\n",
        "| + | addition|\r\n",
        "| - | subtraction |\r\n",
        "| * | multiplication |\r\n",
        "| / | division |\r\n",
        "| ** | exponent |\r\n",
        "| % | remainder |\r\n",
        "\r\n",
        "Try some of these below. The first two should look like this:\r\n",
        "\r\n",
        "``` python\r\n",
        "print(7 + 3)\r\n",
        "print(7 - 3)\r\n",
        "```"
      ]
    },
    {
      "cell_type": "code",
      "metadata": {
        "colab": {
          "base_uri": "https://localhost:8080/"
        },
        "id": "gz47ivet9zBR",
        "outputId": "3bb43f8a-f666-48e2-98c4-8a3620513794"
      },
      "source": [
        "print(7 + 3)\r\n",
        "print(7 - 3)\r\n",
        "print(7 * 3)\r\n",
        "print(7 / 3)\r\n",
        "print(7 ** 3)\r\n",
        "print(7 % 3)"
      ],
      "execution_count": 2,
      "outputs": [
        {
          "output_type": "stream",
          "text": [
            "10\n",
            "4\n",
            "21\n",
            "2.3333333333333335\n",
            "343\n",
            "1\n"
          ],
          "name": "stdout"
        }
      ]
    },
    {
      "cell_type": "markdown",
      "metadata": {
        "id": "pWjJbaW1-HHu"
      },
      "source": [
        "Like all programming languages, Python allows you to store data in variables. Let's store a few values and then add them together.\r\n",
        "\r\n",
        "``` python\r\n",
        "x = 3\r\n",
        "y = 4\r\n",
        "\r\n",
        "x + y\r\n",
        "```\r\n",
        "Type this in the cell below and then press, `shift` + `enter` to run the code"
      ]
    },
    {
      "cell_type": "code",
      "metadata": {
        "colab": {
          "base_uri": "https://localhost:8080/"
        },
        "id": "VoLKRzE_-L30",
        "outputId": "ae2a99e9-4b82-40fa-a44d-eb4f74e78ff2"
      },
      "source": [
        "x = 3\r\n",
        "y = 4\r\n",
        " \r\n",
        "x + y"
      ],
      "execution_count": 3,
      "outputs": [
        {
          "output_type": "execute_result",
          "data": {
            "text/plain": [
              "7"
            ]
          },
          "metadata": {
            "tags": []
          },
          "execution_count": 3
        }
      ]
    },
    {
      "cell_type": "markdown",
      "metadata": {
        "id": "TmTJvejd-r40"
      },
      "source": [
        "The Notebook (technically something called the \"Runtime\") remembers values between cells, so you can use the results of `x` and `y` in a subsequent cell.\r\n",
        "\r\n",
        "Try the following:\r\n",
        "``` python\r\n",
        "z = x + 12 / y\r\n",
        "print(z)\r\n",
        "```"
      ]
    },
    {
      "cell_type": "markdown",
      "metadata": {
        "id": "KyBpvULxNFq_"
      },
      "source": [
        "Unlike your algebra class, Python can store many different types of data in variables. Also, variable names don't have to be just `x`, `y`, or `n`, they can be several characters long, like `myVariable`. Variables may contain upper and lowercase letters, numbers (although they cannot start with a number), and the underscore character `_`. This allows your variables to be descriptive of the type of data they contain.\r\n",
        "\r\n",
        "Use the code below to store the string \"hello,\" in a variable and then combine it with \" world!\" and print it to the console.\r\n",
        "\r\n",
        "``` python\r\n",
        "first_word = \"Hello,\"\r\n",
        "print(first_word + \" world!\")\r\n",
        "```\r\n",
        "\r\n",
        "Note: In programming, text is refferred to as a \"string\" because it is an ordered sequence of characters \"strung together\""
      ]
    },
    {
      "cell_type": "code",
      "metadata": {
        "colab": {
          "base_uri": "https://localhost:8080/"
        },
        "id": "LmuZq8OGQLb4",
        "outputId": "e8c5fe2b-4950-43b9-978a-ed7c0b2cf81c"
      },
      "source": [
        "first_word = \"Hello,\"\r\n",
        "print(first_word + \" world!\")"
      ],
      "execution_count": 4,
      "outputs": [
        {
          "output_type": "stream",
          "text": [
            "Hello, world!\n"
          ],
          "name": "stdout"
        }
      ]
    },
    {
      "cell_type": "markdown",
      "metadata": {
        "id": "RuABcneuQQTC"
      },
      "source": [
        "You also just did something cool here! You just demonstrated how the `+` operator can be used for more than regular numerical addition. For strings like this, `+` means concatenation."
      ]
    },
    {
      "cell_type": "code",
      "metadata": {
        "colab": {
          "base_uri": "https://localhost:8080/"
        },
        "id": "VKj6IxgG-nui",
        "outputId": "9ab87e39-cffa-4407-fc07-f5ddc329ac0c"
      },
      "source": [
        "z = x + 12 / y\r\n",
        "print(z)"
      ],
      "execution_count": 5,
      "outputs": [
        {
          "output_type": "stream",
          "text": [
            "6.0\n"
          ],
          "name": "stdout"
        }
      ]
    },
    {
      "cell_type": "markdown",
      "metadata": {
        "id": "PEpB1UHH_BDk"
      },
      "source": [
        "Many times, we will want to add comments to our code. If you put a `#` on a line of code, that line will not be evaluated.\r\n",
        "\r\n",
        "``` python\r\n",
        "# This is a comment in our code\r\n",
        "x = 3\r\n",
        "x = x + 4\r\n",
        "\r\n",
        "# The following line has no effect because it is 'commented out'\r\n",
        "# x = x + 3\r\n",
        "\r\n",
        "print(x)  # x should equal 7\r\n",
        "```"
      ]
    },
    {
      "cell_type": "code",
      "metadata": {
        "colab": {
          "base_uri": "https://localhost:8080/"
        },
        "id": "uGHvIENH-6fh",
        "outputId": "d05b3fe1-89af-49c3-c2cd-1436c89e5667"
      },
      "source": [
        "# This is a comment in our code\r\n",
        "x = 3\r\n",
        "x = x + 4\r\n",
        " \r\n",
        "# The following line has no effect because it is 'commented out'\r\n",
        "# x = x + 3\r\n",
        " \r\n",
        "print(x)  # x should equal 7"
      ],
      "execution_count": 6,
      "outputs": [
        {
          "output_type": "stream",
          "text": [
            "7\n"
          ],
          "name": "stdout"
        }
      ]
    },
    {
      "cell_type": "markdown",
      "metadata": {
        "id": "dnelRAUb_i18"
      },
      "source": [
        "## CoLab\r\n",
        "\r\n",
        "Colab is an integrated development environment that is designed for scientists and researchers like **you**. Colab is Google's take on the open source project, \"Jupyter Notebook\".\r\n",
        "\r\n",
        "### Cells\r\n",
        "\r\n",
        "Colab files are divided into two types of cells, \"Code\" and \"Markdown.\" Code cells run the actual logic and data manipulation, while Markdown cells are used for documentation and explanation. These pieces of instruction text are all contained in markdown cells.\r\n",
        "\r\n",
        "---\r\n",
        "\r\n",
        "Click the ```+ Text``` button to create your own markdown cell below this one. When you edit your markdown cell, you can use the toolbar to format the text and add images to the cell. In CoLab, you'll see the markdown code on the left and a preview on the right. Markdown cells are great for organizing your project and documenting your train of thought.\r\n",
        "\r\n",
        "Below, I've created an example markdown cell. See if you can make something similar.\r\n",
        "\r\n",
        "Note: You can also move cells around by pressing the up or down arrows to the right."
      ]
    },
    {
      "cell_type": "markdown",
      "metadata": {
        "id": "ffYOdNwZBs8P"
      },
      "source": [
        "# This is a header\r\n",
        "And here is some **really important text**\r\n",
        "\r\n",
        "I think I should\r\n",
        "0. Make a numbered list\r\n",
        "0. Add an item to that list\r\n",
        "\r\n",
        "## This is a subheader\r\n",
        "* Make a bulleted list\r\n",
        "* And add another item to the bulleted list"
      ]
    },
    {
      "cell_type": "markdown",
      "metadata": {
        "id": "aBcqiVI5_Dmf"
      },
      "source": [
        "# External Libraries\r\n",
        "\r\n",
        "One of the benefits to using Python is that there is a very large support community and a bunch of prebuilt libraries that you can import into your project.\r\n",
        "\r\n",
        "Let's say you want to generate a random value between 0 and 1. Run the cell below to confirm that it fails"
      ]
    },
    {
      "cell_type": "code",
      "metadata": {
        "colab": {
          "base_uri": "https://localhost:8080/",
          "height": 180
        },
        "id": "34XySqfbC_wb",
        "outputId": "467bc1db-36a0-478f-c523-7498bc55f4d8"
      },
      "source": [
        "x = random.random()\r\n",
        "print(x)"
      ],
      "execution_count": 7,
      "outputs": [
        {
          "output_type": "error",
          "ename": "NameError",
          "evalue": "ignored",
          "traceback": [
            "\u001b[0;31m---------------------------------------------------------------------------\u001b[0m",
            "\u001b[0;31mNameError\u001b[0m                                 Traceback (most recent call last)",
            "\u001b[0;32m<ipython-input-7-b17da23f5615>\u001b[0m in \u001b[0;36m<module>\u001b[0;34m()\u001b[0m\n\u001b[0;32m----> 1\u001b[0;31m \u001b[0mx\u001b[0m \u001b[0;34m=\u001b[0m \u001b[0mrandom\u001b[0m\u001b[0;34m.\u001b[0m\u001b[0mrandom\u001b[0m\u001b[0;34m(\u001b[0m\u001b[0;34m)\u001b[0m\u001b[0;34m\u001b[0m\u001b[0;34m\u001b[0m\u001b[0m\n\u001b[0m\u001b[1;32m      2\u001b[0m \u001b[0mprint\u001b[0m\u001b[0;34m(\u001b[0m\u001b[0mx\u001b[0m\u001b[0;34m)\u001b[0m\u001b[0;34m\u001b[0m\u001b[0;34m\u001b[0m\u001b[0m\n",
            "\u001b[0;31mNameError\u001b[0m: name 'random' is not defined"
          ]
        }
      ]
    },
    {
      "cell_type": "markdown",
      "metadata": {
        "id": "exNULIpoDChm"
      },
      "source": [
        "To make this work, we need to import the ```random``` library"
      ]
    },
    {
      "cell_type": "code",
      "metadata": {
        "id": "rxIqSjP4Dp2q"
      },
      "source": [
        "# Run this cell to import the 'random' library\r\n",
        "import random"
      ],
      "execution_count": 8,
      "outputs": []
    },
    {
      "cell_type": "code",
      "metadata": {
        "colab": {
          "base_uri": "https://localhost:8080/"
        },
        "id": "9i17KFWIDu_F",
        "outputId": "9a236a37-d9ad-4d8a-f421-2dba426debb8"
      },
      "source": [
        "# After importing the random library, you can use it in your code. This should now succeed:\r\n",
        "x = random.random()\r\n",
        "print(x)"
      ],
      "execution_count": 9,
      "outputs": [
        {
          "output_type": "stream",
          "text": [
            "0.032506594096154084\n"
          ],
          "name": "stdout"
        }
      ]
    },
    {
      "cell_type": "markdown",
      "metadata": {
        "id": "M_ZdpOq_D7Q0"
      },
      "source": [
        "# Import external data into a Notebook\r\n",
        "\r\n",
        "\"Pandas\" is a popular data science library for Python. We're going to use it to load WHO COVID data into our project.\r\n",
        "\r\n",
        "For simplicity, the ```pandas``` library is often given a pseudonym ```pd```. Type the following to import pandas and give it a psuedonym:\r\n",
        "\r\n",
        "``` python\r\n",
        "import pandas as pd\r\n",
        "```"
      ]
    },
    {
      "cell_type": "code",
      "metadata": {
        "id": "2TT30AWeM2YR"
      },
      "source": [
        "# Import the pandas library with the pseudonym pd\r\n",
        "import pandas as pd"
      ],
      "execution_count": 10,
      "outputs": []
    },
    {
      "cell_type": "markdown",
      "metadata": {
        "id": "OCu9AICqM7LJ"
      },
      "source": [
        "We're going to pull our Covid data from the WHO website https://covid19.who.int/table. If you visit the page, you'll see a little download symbol to the right. That links to this comma separated value (csv) file:\r\n",
        "\r\n",
        "https://covid19.who.int/WHO-COVID-19-global-table-data.csv\r\n",
        "\r\n",
        "Using Pandas, we can import that file directly with the `pd.read_csv(FILE_LOCATION)` method.\r\n",
        "\r\n",
        "Type the following to import the current WHO Covid data and assign them to the variable `data` and then print the results to the screen:\r\n",
        "\r\n",
        "``` python\r\n",
        "data = pd.read_csv('https://covid19.who.int/WHO-COVID-19-global-table-data.csv')\r\n",
        "data\r\n",
        "```"
      ]
    },
    {
      "cell_type": "code",
      "metadata": {
        "colab": {
          "base_uri": "https://localhost:8080/",
          "height": 620
        },
        "id": "FltB76yFS6Eg",
        "outputId": "38af6552-b585-46f4-afd5-e53bd122f4d0"
      },
      "source": [
        "data = pd.read_csv('https://covid19.who.int/WHO-COVID-19-global-table-data.csv', index_col='Name')\r\n",
        "data"
      ],
      "execution_count": 11,
      "outputs": [
        {
          "output_type": "execute_result",
          "data": {
            "text/html": [
              "<div>\n",
              "<style scoped>\n",
              "    .dataframe tbody tr th:only-of-type {\n",
              "        vertical-align: middle;\n",
              "    }\n",
              "\n",
              "    .dataframe tbody tr th {\n",
              "        vertical-align: top;\n",
              "    }\n",
              "\n",
              "    .dataframe thead th {\n",
              "        text-align: right;\n",
              "    }\n",
              "</style>\n",
              "<table border=\"1\" class=\"dataframe\">\n",
              "  <thead>\n",
              "    <tr style=\"text-align: right;\">\n",
              "      <th></th>\n",
              "      <th>WHO Region</th>\n",
              "      <th>Cases - cumulative total</th>\n",
              "      <th>Cases - cumulative total per 1 million population</th>\n",
              "      <th>Cases - newly reported in last 7 days</th>\n",
              "      <th>Cases - newly reported in last 24 hours</th>\n",
              "      <th>Deaths - cumulative total</th>\n",
              "      <th>Deaths - cumulative total per 1 million population</th>\n",
              "      <th>Deaths - newly reported in last 7 days</th>\n",
              "      <th>Deaths - newly reported in last 24 hours</th>\n",
              "      <th>Transmission Classification</th>\n",
              "    </tr>\n",
              "    <tr>\n",
              "      <th>Name</th>\n",
              "      <th></th>\n",
              "      <th></th>\n",
              "      <th></th>\n",
              "      <th></th>\n",
              "      <th></th>\n",
              "      <th></th>\n",
              "      <th></th>\n",
              "      <th></th>\n",
              "      <th></th>\n",
              "      <th></th>\n",
              "    </tr>\n",
              "  </thead>\n",
              "  <tbody>\n",
              "    <tr>\n",
              "      <th>Global</th>\n",
              "      <td>NaN</td>\n",
              "      <td>84780171</td>\n",
              "      <td>10860.465933</td>\n",
              "      <td>4268275</td>\n",
              "      <td>524417</td>\n",
              "      <td>1853525</td>\n",
              "      <td>237.439308</td>\n",
              "      <td>76690</td>\n",
              "      <td>9952</td>\n",
              "      <td>NaN</td>\n",
              "    </tr>\n",
              "    <tr>\n",
              "      <th>United States of America</th>\n",
              "      <td>Americas</td>\n",
              "      <td>20643544</td>\n",
              "      <td>62366.700000</td>\n",
              "      <td>1495917</td>\n",
              "      <td>173375</td>\n",
              "      <td>350753</td>\n",
              "      <td>1059.670000</td>\n",
              "      <td>18330</td>\n",
              "      <td>1791</td>\n",
              "      <td>Community transmission</td>\n",
              "    </tr>\n",
              "    <tr>\n",
              "      <th>India</th>\n",
              "      <td>South-East Asia</td>\n",
              "      <td>10374932</td>\n",
              "      <td>7518.040000</td>\n",
              "      <td>130080</td>\n",
              "      <td>18088</td>\n",
              "      <td>150114</td>\n",
              "      <td>108.780000</td>\n",
              "      <td>1675</td>\n",
              "      <td>264</td>\n",
              "      <td>Clusters of cases</td>\n",
              "    </tr>\n",
              "    <tr>\n",
              "      <th>Brazil</th>\n",
              "      <td>Americas</td>\n",
              "      <td>7753752</td>\n",
              "      <td>36478.050000</td>\n",
              "      <td>248919</td>\n",
              "      <td>20006</td>\n",
              "      <td>196561</td>\n",
              "      <td>924.730000</td>\n",
              "      <td>4991</td>\n",
              "      <td>543</td>\n",
              "      <td>Community transmission</td>\n",
              "    </tr>\n",
              "    <tr>\n",
              "      <th>Russian Federation</th>\n",
              "      <td>Europe</td>\n",
              "      <td>3284384</td>\n",
              "      <td>22505.880000</td>\n",
              "      <td>179347</td>\n",
              "      <td>24246</td>\n",
              "      <td>59506</td>\n",
              "      <td>407.760000</td>\n",
              "      <td>3679</td>\n",
              "      <td>518</td>\n",
              "      <td>Clusters of cases</td>\n",
              "    </tr>\n",
              "    <tr>\n",
              "      <th>...</th>\n",
              "      <td>...</td>\n",
              "      <td>...</td>\n",
              "      <td>...</td>\n",
              "      <td>...</td>\n",
              "      <td>...</td>\n",
              "      <td>...</td>\n",
              "      <td>...</td>\n",
              "      <td>...</td>\n",
              "      <td>...</td>\n",
              "      <td>...</td>\n",
              "    </tr>\n",
              "    <tr>\n",
              "      <th>Samoa</th>\n",
              "      <td>Western Pacific</td>\n",
              "      <td>0</td>\n",
              "      <td>0.000000</td>\n",
              "      <td>0</td>\n",
              "      <td>0</td>\n",
              "      <td>0</td>\n",
              "      <td>0.000000</td>\n",
              "      <td>0</td>\n",
              "      <td>0</td>\n",
              "      <td>No cases</td>\n",
              "    </tr>\n",
              "    <tr>\n",
              "      <th>Tokelau</th>\n",
              "      <td>Western Pacific</td>\n",
              "      <td>0</td>\n",
              "      <td>0.000000</td>\n",
              "      <td>0</td>\n",
              "      <td>0</td>\n",
              "      <td>0</td>\n",
              "      <td>0.000000</td>\n",
              "      <td>0</td>\n",
              "      <td>0</td>\n",
              "      <td>No cases</td>\n",
              "    </tr>\n",
              "    <tr>\n",
              "      <th>Tonga</th>\n",
              "      <td>Western Pacific</td>\n",
              "      <td>0</td>\n",
              "      <td>0.000000</td>\n",
              "      <td>0</td>\n",
              "      <td>0</td>\n",
              "      <td>0</td>\n",
              "      <td>0.000000</td>\n",
              "      <td>0</td>\n",
              "      <td>0</td>\n",
              "      <td>No cases</td>\n",
              "    </tr>\n",
              "    <tr>\n",
              "      <th>Turkmenistan</th>\n",
              "      <td>Europe</td>\n",
              "      <td>0</td>\n",
              "      <td>0.000000</td>\n",
              "      <td>0</td>\n",
              "      <td>0</td>\n",
              "      <td>0</td>\n",
              "      <td>0.000000</td>\n",
              "      <td>0</td>\n",
              "      <td>0</td>\n",
              "      <td>No cases</td>\n",
              "    </tr>\n",
              "    <tr>\n",
              "      <th>Tuvalu</th>\n",
              "      <td>Western Pacific</td>\n",
              "      <td>0</td>\n",
              "      <td>0.000000</td>\n",
              "      <td>0</td>\n",
              "      <td>0</td>\n",
              "      <td>0</td>\n",
              "      <td>0.000000</td>\n",
              "      <td>0</td>\n",
              "      <td>0</td>\n",
              "      <td>No cases</td>\n",
              "    </tr>\n",
              "  </tbody>\n",
              "</table>\n",
              "<p>238 rows × 10 columns</p>\n",
              "</div>"
            ],
            "text/plain": [
              "                               WHO Region  ...  Transmission Classification\n",
              "Name                                       ...                             \n",
              "Global                                NaN  ...                          NaN\n",
              "United States of America         Americas  ...       Community transmission\n",
              "India                     South-East Asia  ...            Clusters of cases\n",
              "Brazil                           Americas  ...       Community transmission\n",
              "Russian Federation                 Europe  ...            Clusters of cases\n",
              "...                                   ...  ...                          ...\n",
              "Samoa                     Western Pacific  ...                     No cases\n",
              "Tokelau                   Western Pacific  ...                     No cases\n",
              "Tonga                     Western Pacific  ...                     No cases\n",
              "Turkmenistan                       Europe  ...                     No cases\n",
              "Tuvalu                    Western Pacific  ...                     No cases\n",
              "\n",
              "[238 rows x 10 columns]"
            ]
          },
          "metadata": {
            "tags": []
          },
          "execution_count": 11
        }
      ]
    },
    {
      "cell_type": "markdown",
      "metadata": {
        "id": "DIaEqwoaZl2w"
      },
      "source": [
        "We can access a specific column of data from our DataFrame by referencing its label as a string in brackets like this:\r\n",
        "\r\n",
        "``` python\r\n",
        "data['Cases - cumulative total']\r\n",
        "```"
      ]
    },
    {
      "cell_type": "code",
      "metadata": {
        "id": "9YmU1IbpahoR",
        "colab": {
          "base_uri": "https://localhost:8080/"
        },
        "outputId": "7381944d-f2bb-41a7-ef69-156fbdc9ac4d"
      },
      "source": [
        "data['Cases - cumulative total']"
      ],
      "execution_count": 12,
      "outputs": [
        {
          "output_type": "execute_result",
          "data": {
            "text/plain": [
              "Name\n",
              "Global                      84780171\n",
              "United States of America    20643544\n",
              "India                       10374932\n",
              "Brazil                       7753752\n",
              "Russian Federation           3284384\n",
              "                              ...   \n",
              "Samoa                              0\n",
              "Tokelau                            0\n",
              "Tonga                              0\n",
              "Turkmenistan                       0\n",
              "Tuvalu                             0\n",
              "Name: Cases - cumulative total, Length: 238, dtype: int64"
            ]
          },
          "metadata": {
            "tags": []
          },
          "execution_count": 12
        }
      ]
    },
    {
      "cell_type": "markdown",
      "metadata": {
        "id": "qkyYs2aIbBq9"
      },
      "source": [
        "If you want to access just a part of your data two columns, use double-brackets like this:\r\n",
        "\r\n",
        "``` python\r\n",
        "data[['Cases - cumulative total', 'Deaths - cumulative total per 1 million population']]\r\n",
        "```"
      ]
    },
    {
      "cell_type": "code",
      "metadata": {
        "colab": {
          "base_uri": "https://localhost:8080/",
          "height": 450
        },
        "id": "r8RhmnCfaQah",
        "outputId": "1702e27a-f1f2-4319-8f10-5443a65955f4"
      },
      "source": [
        "data[['Cases - cumulative total', 'Deaths - cumulative total per 1 million population']]"
      ],
      "execution_count": 13,
      "outputs": [
        {
          "output_type": "execute_result",
          "data": {
            "text/html": [
              "<div>\n",
              "<style scoped>\n",
              "    .dataframe tbody tr th:only-of-type {\n",
              "        vertical-align: middle;\n",
              "    }\n",
              "\n",
              "    .dataframe tbody tr th {\n",
              "        vertical-align: top;\n",
              "    }\n",
              "\n",
              "    .dataframe thead th {\n",
              "        text-align: right;\n",
              "    }\n",
              "</style>\n",
              "<table border=\"1\" class=\"dataframe\">\n",
              "  <thead>\n",
              "    <tr style=\"text-align: right;\">\n",
              "      <th></th>\n",
              "      <th>Cases - cumulative total</th>\n",
              "      <th>Deaths - cumulative total per 1 million population</th>\n",
              "    </tr>\n",
              "    <tr>\n",
              "      <th>Name</th>\n",
              "      <th></th>\n",
              "      <th></th>\n",
              "    </tr>\n",
              "  </thead>\n",
              "  <tbody>\n",
              "    <tr>\n",
              "      <th>Global</th>\n",
              "      <td>84780171</td>\n",
              "      <td>237.439308</td>\n",
              "    </tr>\n",
              "    <tr>\n",
              "      <th>United States of America</th>\n",
              "      <td>20643544</td>\n",
              "      <td>1059.670000</td>\n",
              "    </tr>\n",
              "    <tr>\n",
              "      <th>India</th>\n",
              "      <td>10374932</td>\n",
              "      <td>108.780000</td>\n",
              "    </tr>\n",
              "    <tr>\n",
              "      <th>Brazil</th>\n",
              "      <td>7753752</td>\n",
              "      <td>924.730000</td>\n",
              "    </tr>\n",
              "    <tr>\n",
              "      <th>Russian Federation</th>\n",
              "      <td>3284384</td>\n",
              "      <td>407.760000</td>\n",
              "    </tr>\n",
              "    <tr>\n",
              "      <th>...</th>\n",
              "      <td>...</td>\n",
              "      <td>...</td>\n",
              "    </tr>\n",
              "    <tr>\n",
              "      <th>Samoa</th>\n",
              "      <td>0</td>\n",
              "      <td>0.000000</td>\n",
              "    </tr>\n",
              "    <tr>\n",
              "      <th>Tokelau</th>\n",
              "      <td>0</td>\n",
              "      <td>0.000000</td>\n",
              "    </tr>\n",
              "    <tr>\n",
              "      <th>Tonga</th>\n",
              "      <td>0</td>\n",
              "      <td>0.000000</td>\n",
              "    </tr>\n",
              "    <tr>\n",
              "      <th>Turkmenistan</th>\n",
              "      <td>0</td>\n",
              "      <td>0.000000</td>\n",
              "    </tr>\n",
              "    <tr>\n",
              "      <th>Tuvalu</th>\n",
              "      <td>0</td>\n",
              "      <td>0.000000</td>\n",
              "    </tr>\n",
              "  </tbody>\n",
              "</table>\n",
              "<p>238 rows × 2 columns</p>\n",
              "</div>"
            ],
            "text/plain": [
              "                          Cases - cumulative total  Deaths - cumulative total per 1 million population\n",
              "Name                                                                                                  \n",
              "Global                                    84780171                                         237.439308 \n",
              "United States of America                  20643544                                        1059.670000 \n",
              "India                                     10374932                                         108.780000 \n",
              "Brazil                                     7753752                                         924.730000 \n",
              "Russian Federation                         3284384                                         407.760000 \n",
              "...                                            ...                                                ... \n",
              "Samoa                                            0                                           0.000000 \n",
              "Tokelau                                          0                                           0.000000 \n",
              "Tonga                                            0                                           0.000000 \n",
              "Turkmenistan                                     0                                           0.000000 \n",
              "Tuvalu                                           0                                           0.000000 \n",
              "\n",
              "[238 rows x 2 columns]"
            ]
          },
          "metadata": {
            "tags": []
          },
          "execution_count": 13
        }
      ]
    },
    {
      "cell_type": "markdown",
      "metadata": {
        "id": "YkPno8leTsA8"
      },
      "source": [
        "Pandas data include some built-in methods to help us visualize our data. Try each of the following built-in commands by typing `data.COMMAND_NAME()`. The first is done for you.\r\n",
        "\r\n",
        "\r\n",
        "| Command | Description |\r\n",
        "|--------|---------|\r\n",
        "| head() | Display the first few rows of data |\r\n",
        "| tail(10) | Display the last 10 few rows of data. Note: can also add a number to the head() command to do similarly. |\r\n",
        "| describe() | Display basic statistics about the data |\r\n",
        "| transpose() | Transpose the rows with the columns (basically, turn it on its side) |\r\n",
        "| sort_values(COL_NAME) | Sort the data by the values from a specific column |\r\n",
        "| columns | Display the column labels (note, there are no parentheses for this command) |\r\n",
        "| shape | Display the size of the data frame |"
      ]
    },
    {
      "cell_type": "code",
      "metadata": {
        "colab": {
          "base_uri": "https://localhost:8080/",
          "height": 337
        },
        "id": "m2PQlD7DUhI1",
        "outputId": "243c5ca5-52ff-4b52-a462-48415e27b071"
      },
      "source": [
        "# Use the head() command to view the first few rows of the data\r\n",
        "data.head()"
      ],
      "execution_count": 14,
      "outputs": [
        {
          "output_type": "execute_result",
          "data": {
            "text/html": [
              "<div>\n",
              "<style scoped>\n",
              "    .dataframe tbody tr th:only-of-type {\n",
              "        vertical-align: middle;\n",
              "    }\n",
              "\n",
              "    .dataframe tbody tr th {\n",
              "        vertical-align: top;\n",
              "    }\n",
              "\n",
              "    .dataframe thead th {\n",
              "        text-align: right;\n",
              "    }\n",
              "</style>\n",
              "<table border=\"1\" class=\"dataframe\">\n",
              "  <thead>\n",
              "    <tr style=\"text-align: right;\">\n",
              "      <th></th>\n",
              "      <th>WHO Region</th>\n",
              "      <th>Cases - cumulative total</th>\n",
              "      <th>Cases - cumulative total per 1 million population</th>\n",
              "      <th>Cases - newly reported in last 7 days</th>\n",
              "      <th>Cases - newly reported in last 24 hours</th>\n",
              "      <th>Deaths - cumulative total</th>\n",
              "      <th>Deaths - cumulative total per 1 million population</th>\n",
              "      <th>Deaths - newly reported in last 7 days</th>\n",
              "      <th>Deaths - newly reported in last 24 hours</th>\n",
              "      <th>Transmission Classification</th>\n",
              "    </tr>\n",
              "    <tr>\n",
              "      <th>Name</th>\n",
              "      <th></th>\n",
              "      <th></th>\n",
              "      <th></th>\n",
              "      <th></th>\n",
              "      <th></th>\n",
              "      <th></th>\n",
              "      <th></th>\n",
              "      <th></th>\n",
              "      <th></th>\n",
              "      <th></th>\n",
              "    </tr>\n",
              "  </thead>\n",
              "  <tbody>\n",
              "    <tr>\n",
              "      <th>Global</th>\n",
              "      <td>NaN</td>\n",
              "      <td>84780171</td>\n",
              "      <td>10860.465933</td>\n",
              "      <td>4268275</td>\n",
              "      <td>524417</td>\n",
              "      <td>1853525</td>\n",
              "      <td>237.439308</td>\n",
              "      <td>76690</td>\n",
              "      <td>9952</td>\n",
              "      <td>NaN</td>\n",
              "    </tr>\n",
              "    <tr>\n",
              "      <th>United States of America</th>\n",
              "      <td>Americas</td>\n",
              "      <td>20643544</td>\n",
              "      <td>62366.700000</td>\n",
              "      <td>1495917</td>\n",
              "      <td>173375</td>\n",
              "      <td>350753</td>\n",
              "      <td>1059.670000</td>\n",
              "      <td>18330</td>\n",
              "      <td>1791</td>\n",
              "      <td>Community transmission</td>\n",
              "    </tr>\n",
              "    <tr>\n",
              "      <th>India</th>\n",
              "      <td>South-East Asia</td>\n",
              "      <td>10374932</td>\n",
              "      <td>7518.040000</td>\n",
              "      <td>130080</td>\n",
              "      <td>18088</td>\n",
              "      <td>150114</td>\n",
              "      <td>108.780000</td>\n",
              "      <td>1675</td>\n",
              "      <td>264</td>\n",
              "      <td>Clusters of cases</td>\n",
              "    </tr>\n",
              "    <tr>\n",
              "      <th>Brazil</th>\n",
              "      <td>Americas</td>\n",
              "      <td>7753752</td>\n",
              "      <td>36478.050000</td>\n",
              "      <td>248919</td>\n",
              "      <td>20006</td>\n",
              "      <td>196561</td>\n",
              "      <td>924.730000</td>\n",
              "      <td>4991</td>\n",
              "      <td>543</td>\n",
              "      <td>Community transmission</td>\n",
              "    </tr>\n",
              "    <tr>\n",
              "      <th>Russian Federation</th>\n",
              "      <td>Europe</td>\n",
              "      <td>3284384</td>\n",
              "      <td>22505.880000</td>\n",
              "      <td>179347</td>\n",
              "      <td>24246</td>\n",
              "      <td>59506</td>\n",
              "      <td>407.760000</td>\n",
              "      <td>3679</td>\n",
              "      <td>518</td>\n",
              "      <td>Clusters of cases</td>\n",
              "    </tr>\n",
              "  </tbody>\n",
              "</table>\n",
              "</div>"
            ],
            "text/plain": [
              "                               WHO Region  ...  Transmission Classification\n",
              "Name                                       ...                             \n",
              "Global                                NaN  ...                          NaN\n",
              "United States of America         Americas  ...       Community transmission\n",
              "India                     South-East Asia  ...            Clusters of cases\n",
              "Brazil                           Americas  ...       Community transmission\n",
              "Russian Federation                 Europe  ...            Clusters of cases\n",
              "\n",
              "[5 rows x 10 columns]"
            ]
          },
          "metadata": {
            "tags": []
          },
          "execution_count": 14
        }
      ]
    },
    {
      "cell_type": "code",
      "metadata": {
        "colab": {
          "base_uri": "https://localhost:8080/",
          "height": 560
        },
        "id": "s3G-vDZPTAWs",
        "outputId": "ee2eef64-7424-4995-99f8-d60b0342b65c"
      },
      "source": [
        "# Use the tail(10) command to display the last 10 rows of data\r\n",
        "data.tail(10)"
      ],
      "execution_count": 15,
      "outputs": [
        {
          "output_type": "execute_result",
          "data": {
            "text/html": [
              "<div>\n",
              "<style scoped>\n",
              "    .dataframe tbody tr th:only-of-type {\n",
              "        vertical-align: middle;\n",
              "    }\n",
              "\n",
              "    .dataframe tbody tr th {\n",
              "        vertical-align: top;\n",
              "    }\n",
              "\n",
              "    .dataframe thead th {\n",
              "        text-align: right;\n",
              "    }\n",
              "</style>\n",
              "<table border=\"1\" class=\"dataframe\">\n",
              "  <thead>\n",
              "    <tr style=\"text-align: right;\">\n",
              "      <th></th>\n",
              "      <th>WHO Region</th>\n",
              "      <th>Cases - cumulative total</th>\n",
              "      <th>Cases - cumulative total per 1 million population</th>\n",
              "      <th>Cases - newly reported in last 7 days</th>\n",
              "      <th>Cases - newly reported in last 24 hours</th>\n",
              "      <th>Deaths - cumulative total</th>\n",
              "      <th>Deaths - cumulative total per 1 million population</th>\n",
              "      <th>Deaths - newly reported in last 7 days</th>\n",
              "      <th>Deaths - newly reported in last 24 hours</th>\n",
              "      <th>Transmission Classification</th>\n",
              "    </tr>\n",
              "    <tr>\n",
              "      <th>Name</th>\n",
              "      <th></th>\n",
              "      <th></th>\n",
              "      <th></th>\n",
              "      <th></th>\n",
              "      <th></th>\n",
              "      <th></th>\n",
              "      <th></th>\n",
              "      <th></th>\n",
              "      <th></th>\n",
              "      <th></th>\n",
              "    </tr>\n",
              "  </thead>\n",
              "  <tbody>\n",
              "    <tr>\n",
              "      <th>Nauru</th>\n",
              "      <td>Western Pacific</td>\n",
              "      <td>0</td>\n",
              "      <td>0.0</td>\n",
              "      <td>0</td>\n",
              "      <td>0</td>\n",
              "      <td>0</td>\n",
              "      <td>0.0</td>\n",
              "      <td>0</td>\n",
              "      <td>0</td>\n",
              "      <td>No cases</td>\n",
              "    </tr>\n",
              "    <tr>\n",
              "      <th>Niue</th>\n",
              "      <td>Western Pacific</td>\n",
              "      <td>0</td>\n",
              "      <td>0.0</td>\n",
              "      <td>0</td>\n",
              "      <td>0</td>\n",
              "      <td>0</td>\n",
              "      <td>0.0</td>\n",
              "      <td>0</td>\n",
              "      <td>0</td>\n",
              "      <td>No cases</td>\n",
              "    </tr>\n",
              "    <tr>\n",
              "      <th>Palau</th>\n",
              "      <td>Western Pacific</td>\n",
              "      <td>0</td>\n",
              "      <td>0.0</td>\n",
              "      <td>0</td>\n",
              "      <td>0</td>\n",
              "      <td>0</td>\n",
              "      <td>0.0</td>\n",
              "      <td>0</td>\n",
              "      <td>0</td>\n",
              "      <td>No cases</td>\n",
              "    </tr>\n",
              "    <tr>\n",
              "      <th>Pitcairn Islands</th>\n",
              "      <td>Western Pacific</td>\n",
              "      <td>0</td>\n",
              "      <td>0.0</td>\n",
              "      <td>0</td>\n",
              "      <td>0</td>\n",
              "      <td>0</td>\n",
              "      <td>0.0</td>\n",
              "      <td>0</td>\n",
              "      <td>0</td>\n",
              "      <td>No cases</td>\n",
              "    </tr>\n",
              "    <tr>\n",
              "      <th>Saint Helena</th>\n",
              "      <td>Africa</td>\n",
              "      <td>0</td>\n",
              "      <td>0.0</td>\n",
              "      <td>0</td>\n",
              "      <td>0</td>\n",
              "      <td>0</td>\n",
              "      <td>0.0</td>\n",
              "      <td>0</td>\n",
              "      <td>0</td>\n",
              "      <td>No cases</td>\n",
              "    </tr>\n",
              "    <tr>\n",
              "      <th>Samoa</th>\n",
              "      <td>Western Pacific</td>\n",
              "      <td>0</td>\n",
              "      <td>0.0</td>\n",
              "      <td>0</td>\n",
              "      <td>0</td>\n",
              "      <td>0</td>\n",
              "      <td>0.0</td>\n",
              "      <td>0</td>\n",
              "      <td>0</td>\n",
              "      <td>No cases</td>\n",
              "    </tr>\n",
              "    <tr>\n",
              "      <th>Tokelau</th>\n",
              "      <td>Western Pacific</td>\n",
              "      <td>0</td>\n",
              "      <td>0.0</td>\n",
              "      <td>0</td>\n",
              "      <td>0</td>\n",
              "      <td>0</td>\n",
              "      <td>0.0</td>\n",
              "      <td>0</td>\n",
              "      <td>0</td>\n",
              "      <td>No cases</td>\n",
              "    </tr>\n",
              "    <tr>\n",
              "      <th>Tonga</th>\n",
              "      <td>Western Pacific</td>\n",
              "      <td>0</td>\n",
              "      <td>0.0</td>\n",
              "      <td>0</td>\n",
              "      <td>0</td>\n",
              "      <td>0</td>\n",
              "      <td>0.0</td>\n",
              "      <td>0</td>\n",
              "      <td>0</td>\n",
              "      <td>No cases</td>\n",
              "    </tr>\n",
              "    <tr>\n",
              "      <th>Turkmenistan</th>\n",
              "      <td>Europe</td>\n",
              "      <td>0</td>\n",
              "      <td>0.0</td>\n",
              "      <td>0</td>\n",
              "      <td>0</td>\n",
              "      <td>0</td>\n",
              "      <td>0.0</td>\n",
              "      <td>0</td>\n",
              "      <td>0</td>\n",
              "      <td>No cases</td>\n",
              "    </tr>\n",
              "    <tr>\n",
              "      <th>Tuvalu</th>\n",
              "      <td>Western Pacific</td>\n",
              "      <td>0</td>\n",
              "      <td>0.0</td>\n",
              "      <td>0</td>\n",
              "      <td>0</td>\n",
              "      <td>0</td>\n",
              "      <td>0.0</td>\n",
              "      <td>0</td>\n",
              "      <td>0</td>\n",
              "      <td>No cases</td>\n",
              "    </tr>\n",
              "  </tbody>\n",
              "</table>\n",
              "</div>"
            ],
            "text/plain": [
              "                       WHO Region  ...  Transmission Classification\n",
              "Name                               ...                             \n",
              "Nauru             Western Pacific  ...                     No cases\n",
              "Niue              Western Pacific  ...                     No cases\n",
              "Palau             Western Pacific  ...                     No cases\n",
              "Pitcairn Islands  Western Pacific  ...                     No cases\n",
              "Saint Helena               Africa  ...                     No cases\n",
              "Samoa             Western Pacific  ...                     No cases\n",
              "Tokelau           Western Pacific  ...                     No cases\n",
              "Tonga             Western Pacific  ...                     No cases\n",
              "Turkmenistan               Europe  ...                     No cases\n",
              "Tuvalu            Western Pacific  ...                     No cases\n",
              "\n",
              "[10 rows x 10 columns]"
            ]
          },
          "metadata": {
            "tags": []
          },
          "execution_count": 15
        }
      ]
    },
    {
      "cell_type": "markdown",
      "metadata": {
        "id": "-ol9gilnXMKd"
      },
      "source": [
        "Commands in python can be chained together if you want to apply two or more transformations on the data. Type the following to chain .describe() with .transpose() to get a nice printout of the data statistics:\r\n",
        "\r\n",
        "``` python\r\n",
        "data.describe().transpose()\r\n",
        "```"
      ]
    },
    {
      "cell_type": "code",
      "metadata": {
        "id": "8QetYIjbX9y1"
      },
      "source": [
        "# Chain together .describe() with .transpose() to get descriptive statistics about the data\r\n"
      ],
      "execution_count": 16,
      "outputs": []
    },
    {
      "cell_type": "markdown",
      "metadata": {
        "id": "oN1LZFToYDHX"
      },
      "source": [
        "# Create some basic plots to visualize the data\r\n",
        "\r\n",
        "We're going to use *pyplot* from the *matplotlib* library to visualize our data. First, import the library as `plt` and then type `%matplotlib inline`, which is a \"magic function\" to help plots display better in CoLab.\r\n",
        "\r\n",
        "``` python\r\n",
        "import matplotlib.pyplot as plt\r\n",
        "%matplotlib inline\r\n",
        "```"
      ]
    },
    {
      "cell_type": "code",
      "metadata": {
        "id": "7FlgGZQQZLOc"
      },
      "source": [
        "import matplotlib.pyplot as plt\r\n",
        "%matplotlib inline"
      ],
      "execution_count": 17,
      "outputs": []
    },
    {
      "cell_type": "markdown",
      "metadata": {
        "id": "kx48bVbUmx_M"
      },
      "source": [
        "With Pandas and matplotlib, you can easily generate a 20-bin histogram of one of the columns of data by grabbing that column and then appending the command `.plot.hist(bins=20)`"
      ]
    },
    {
      "cell_type": "code",
      "metadata": {
        "colab": {
          "base_uri": "https://localhost:8080/",
          "height": 285
        },
        "id": "YtZua_2CZare",
        "outputId": "bd8e4c94-8bad-4ae8-9b32-a2191c5b7271"
      },
      "source": [
        "data['Cases - cumulative total per 1 million population'].plot.hist(bins=20)"
      ],
      "execution_count": 18,
      "outputs": [
        {
          "output_type": "execute_result",
          "data": {
            "text/plain": [
              "<matplotlib.axes._subplots.AxesSubplot at 0x7f27ede4c438>"
            ]
          },
          "metadata": {
            "tags": []
          },
          "execution_count": 18
        },
        {
          "output_type": "display_data",
          "data": {
            "image/png": "[encoded data removed]",
            "text/plain": [
              "<Figure size 432x288 with 1 Axes>"
            ]
          },
          "metadata": {
            "tags": [],
            "needs_background": "light"
          }
        }
      ]
    },
    {
      "cell_type": "markdown",
      "metadata": {
        "id": "yMJG_DEhkS4T"
      },
      "source": [
        "MatPlotLib has several other plot types you can use. Below, I've provided you an example of a bar plot comparing cumulative cases with cumulative deaths."
      ]
    },
    {
      "cell_type": "code",
      "metadata": {
        "colab": {
          "base_uri": "https://localhost:8080/"
        },
        "id": "39VD6FE8rIzI",
        "outputId": "f412b1b2-7af7-4b04-b9fa-3a0d3950387e"
      },
      "source": [
        "data.columns"
      ],
      "execution_count": 19,
      "outputs": [
        {
          "output_type": "execute_result",
          "data": {
            "text/plain": [
              "Index(['WHO Region', 'Cases - cumulative total',\n",
              "       'Cases - cumulative total per 1 million population',\n",
              "       'Cases - newly reported in last 7 days',\n",
              "       'Cases - newly reported in last 24 hours', 'Deaths - cumulative total',\n",
              "       'Deaths - cumulative total per 1 million population',\n",
              "       'Deaths - newly reported in last 7 days',\n",
              "       'Deaths - newly reported in last 24 hours',\n",
              "       'Transmission Classification'],\n",
              "      dtype='object')"
            ]
          },
          "metadata": {
            "tags": []
          },
          "execution_count": 19
        }
      ]
    },
    {
      "cell_type": "code",
      "metadata": {
        "id": "r5apiSJLrVW6"
      },
      "source": [
        "cols_to_sort = ['Cases - cumulative total per 1 million population','Deaths - cumulative total per 1 million population']"
      ],
      "execution_count": 20,
      "outputs": []
    },
    {
      "cell_type": "code",
      "metadata": {
        "colab": {
          "base_uri": "https://localhost:8080/",
          "height": 394
        },
        "id": "bFVUWM2FgvpR",
        "outputId": "c0eba486-6db9-4c9c-b2b4-d42ca67be8cf"
      },
      "source": [
        "cases = data.sort_values(cols_to_sort, ascending=False).head(15)[['Cases - cumulative total per 1 million population']]\r\n",
        "deaths = data.sort_values(cols_to_sort, ascending=False).head(15)[['Deaths - cumulative total per 1 million population']]\r\n",
        "\r\n",
        "fig, ax1 = plt.subplots()\r\n",
        "ax2 = ax1.twinx()\r\n",
        "\r\n",
        "width=0.4\r\n",
        "\r\n",
        "cases.plot(\r\n",
        "    kind='bar',\r\n",
        "    ax=ax1,\r\n",
        "    color='blue',\r\n",
        "    width=width,\r\n",
        "    position=1,\r\n",
        "    label='Cases'\r\n",
        ")\r\n",
        "\r\n",
        "deaths.plot(\r\n",
        "    kind='bar',\r\n",
        "    ax=ax2,\r\n",
        "    color='orange',\r\n",
        "    width=width,\r\n",
        "    position=2\r\n",
        ")\r\n",
        "\r\n",
        "lines, labels = ax1.get_legend_handles_labels()\r\n",
        "lines2, labels2 = ax2.get_legend_handles_labels()\r\n",
        "ax2.legend(lines + lines2, labels + labels2, loc=0)\r\n",
        "\r\n",
        "ax1.set_xlabel('Country')\r\n",
        "ax1.set_ylabel('Cases')\r\n",
        "ax2.set_ylabel('Deaths')\r\n",
        "\r\n",
        "plt.show()"
      ],
      "execution_count": 21,
      "outputs": [
        {
          "output_type": "display_data",
          "data": {
            "image/png": "[encoded data removed]",
            "text/plain": [
              "<Figure size 432x288 with 2 Axes>"
            ]
          },
          "metadata": {
            "tags": [],
            "needs_background": "light"
          }
        }
      ]
    },
    {
      "cell_type": "markdown",
      "metadata": {
        "id": "xkecg0C3_i1I"
      },
      "source": [
        "# Congratulations!\r\n",
        "You've just completed your first Python lesson! Below are the learning objectives for upcoming lessons."
      ]
    },
    {
      "cell_type": "markdown",
      "metadata": {
        "id": "cYFpsc12Bfcv"
      },
      "source": [
        "# Lesson 2: Flow Control with If, For, and Functions\r\n",
        "\r\n",
        "## Learning Objectives\r\n",
        "By the end of this lesson, you will be able to:\r\n",
        "\r\n",
        "1. Demonstrate if/then conditional logic to control a script\r\n",
        "1. Count data that meet specific `if` conditions using a `for` loop\r\n",
        "1. `def`ine a function to perform a repetitive task\r\n",
        "1. Create a function that takes parameters and returns a value\r\n",
        "1. Combine `if`, `for`, and `def` to modify each value in a list"
      ]
    },
    {
      "cell_type": "markdown",
      "metadata": {
        "id": "lMtxkOZeBjJC"
      },
      "source": [
        "# Lesson 3: Intro to Data Plots and Statistics in Python\r\n",
        "\r\n",
        "## Learning Objectives\r\n",
        "By the end of this lesson, you will be able to:\r\n",
        "1. Visualize data using various types of plots\r\n",
        "1. Add titles and labels to figures\r\n",
        "1. Export figures to disk as image files\r\n",
        "1. Compute basic statistics on a set of data\r\n",
        "1. List resources for questions about functions\r\n",
        "1. Generate p-values and confidence intervals"
      ]
    },
    {
      "cell_type": "markdown",
      "metadata": {
        "id": "XXPdDmoPBlRM"
      },
      "source": [
        "# Lesson 4: Calculate Power using Simulation\r\n",
        "\r\n",
        "This lesson applies the skills learned in the previous lessons to calculate power for a clinical trial for a vaccine. The Notebook for this lesson will demonstrate the step-by-step process a data scientist might take in approaching the problem and developing an algorithm to solve it.\r\n",
        "\r\n",
        "## Learning Objectives\r\n",
        "By the end of this lesson, you will be able to:\r\n",
        "\r\n",
        "1. Plan a strategy to approach the problem using pseudocode\r\n",
        "1. Generate random data for simulation\r\n",
        "1. Create a contingency table\r\n",
        "1. Combine prep work into function definitions\r\n",
        "1. Create a human-readible summary of the findings"
      ]
    },
    {
      "cell_type": "code",
      "metadata": {
        "id": "5Knac6aoBnxa"
      },
      "source": [
        ""
      ],
      "execution_count": null,
      "outputs": []
    }
  ]
}