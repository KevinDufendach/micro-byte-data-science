{
  "nbformat": 4,
  "nbformat_minor": 0,
  "metadata": {
    "colab": {
      "name": "A Micro-Byte of Data Science - Lesson 1",
      "provenance": [],
      "collapsed_sections": [],
      "authorship_tag": "ABX9TyOQgsfpliaA6mr0lg64qGbs",
      "include_colab_link": true
    },
    "kernelspec": {
      "name": "python3",
      "display_name": "Python 3"
    }
  },
  "cells": [
    {
      "cell_type": "markdown",
      "metadata": {
        "id": "view-in-github",
        "colab_type": "text"
      },
      "source": [
        "<a href=\"https://colab.research.google.com/github/KevinDufendach/micro-byte-data-science/blob/lesson-1/A_Micro_Byte_of_Data_Science_Lesson_1.ipynb\" target=\"_parent\"><img src=\"https://colab.research.google.com/assets/colab-badge.svg\" alt=\"Open In Colab\"/></a>"
      ]
    },
    {
      "cell_type": "markdown",
      "metadata": {
        "id": "dL3Iamfs54ii"
      },
      "source": [
        "# A Micro-Byte of Data Science\r\n",
        "Lesson 1 - An Introduction to Python and CoLab"
      ]
    },
    {
      "cell_type": "markdown",
      "metadata": {
        "id": "vRuxdA_r6cq2"
      },
      "source": [
        "# Lesson 1: Introduction to CoLab/Jupyter Notebooks\r\n",
        "\r\n",
        "## Learning Objectives\r\n",
        "By the end of this lesson, you will be able to:\r\n",
        "\r\n",
        "1. List benefits of using data science tools\r\n",
        "1. Describe the Notebook environment\r\n",
        "1. Demonstrate the use of Python variables for simple arithmetic\r\n",
        "1. Create basic markdown cells\r\n",
        "1. Load an external library as a dependency\r\n",
        "1. Import an example dataset into a Notebook\r\n",
        "1. Access specific columns and cells of data\r\n",
        "1. Display basic statistics about imported data\r\n",
        "1. Create a histogram plot of a section of data"
      ]
    },
    {
      "cell_type": "markdown",
      "metadata": {
        "id": "6sX3m-5i6hrn"
      },
      "source": [
        "## Welcome to Python and CoLab\r\n",
        "\r\n",
        "<table>\r\n",
        "<tr style=\"background: white\">\r\n",
        "  <td><img style=\"height: 100%; width: auto;\" src=\"https://www.python.org/static/community_logos/python-logo.png\"></td>\r\n",
        "  <td><img src=\"https://colab.research.google.com/img/colab_favicon_256px.png\"></td>\r\n",
        "  <td><img src=\"https://upload.wikimedia.org/wikipedia/commons/3/38/Jupyter_logo.svg\" width=\"103\" height=\"120\"></td>\r\n",
        "</tr>\r\n",
        "</table>\r\n",
        "\r\n",
        "### Python\r\n",
        "\r\n",
        "Benefits of Python:\r\n",
        "* General purpose\r\n",
        "* Open source & free!\r\n",
        "* Designed for Readability\r\n",
        "* Many pre-built applications and packages\r\n",
        "* Available in online tools (e.g. CoLab)\r\n"
      ]
    },
    {
      "cell_type": "markdown",
      "metadata": {
        "id": "R0jv9mfx9lO-"
      },
      "source": [
        "## Hands-On Practice"
      ]
    },
    {
      "cell_type": "markdown",
      "metadata": {
        "id": "hTudFqh89hSY"
      },
      "source": [
        "Your first Python command:\r\n",
        "\r\n",
        "In the cell below, type `print(7 + 3)` and then click on the play/run button. You should see the result, `10`, in the area below."
      ]
    },
    {
      "cell_type": "code",
      "metadata": {
        "id": "dvKJQbd85L5F"
      },
      "source": [
        ""
      ],
      "execution_count": null,
      "outputs": []
    },
    {
      "cell_type": "markdown",
      "metadata": {
        "id": "OCYwBloo94f9"
      },
      "source": [
        "Congratulations! You've just executed your first line of Python code!\r\n",
        "\r\n",
        "Let's continue to explore Python as a calculator. Here are some other arthmetic operations to try:\r\n",
        "\r\n",
        "| Syntax | Operand |\r\n",
        "|--------|---------|\r\n",
        "| + | addition|\r\n",
        "| - | subtraction |\r\n",
        "| * | multiplication |\r\n",
        "| / | division |\r\n",
        "| ** | exponent |\r\n",
        "| % | remainder |\r\n",
        "\r\n",
        "Try some of these below. The first two should look like this:\r\n",
        "\r\n",
        "``` python\r\n",
        "print(7 + 3)\r\n",
        "print(7 - 3)\r\n",
        "```"
      ]
    },
    {
      "cell_type": "code",
      "metadata": {
        "colab": {
          "base_uri": "https://localhost:8080/"
        },
        "id": "gz47ivet9zBR",
        "outputId": "7c11d8e4-58ae-4a20-d0b1-544be99036b7"
      },
      "source": [
        "print(7 + 3)\r\n",
        "print(7 - 3)\r\n"
      ],
      "execution_count": 1,
      "outputs": [
        {
          "output_type": "stream",
          "text": [
            "10\n",
            "4\n"
          ],
          "name": "stdout"
        }
      ]
    },
    {
      "cell_type": "markdown",
      "metadata": {
        "id": "pWjJbaW1-HHu"
      },
      "source": [
        "Like all programming languages, Python allows you to store data in variables. Let's store a few values and then add them together.\r\n",
        "\r\n",
        "``` python\r\n",
        "x = 3\r\n",
        "y = 4\r\n",
        "\r\n",
        "x + y\r\n",
        "```\r\n",
        "Type this in the cell below and then press, `shift` + `enter` to run the code"
      ]
    },
    {
      "cell_type": "code",
      "metadata": {
        "id": "VoLKRzE_-L30"
      },
      "source": [
        ""
      ],
      "execution_count": 1,
      "outputs": []
    },
    {
      "cell_type": "markdown",
      "metadata": {
        "id": "TmTJvejd-r40"
      },
      "source": [
        "The Notebook (technically something called the \"Runtime\") remembers values between cells, so you can use the results of `x` and `y` in a subsequent cell.\r\n",
        "\r\n",
        "Try the following:\r\n",
        "``` python\r\n",
        "z = x + 12 / y\r\n",
        "print(z)\r\n",
        "```"
      ]
    },
    {
      "cell_type": "code",
      "metadata": {
        "id": "VKj6IxgG-nui"
      },
      "source": [
        ""
      ],
      "execution_count": 1,
      "outputs": []
    },
    {
      "cell_type": "markdown",
      "metadata": {
        "id": "KyBpvULxNFq_"
      },
      "source": [
        "Unlike your algebra class, Python can store many different types of data in variables. Also, variable names don't have to be just `x`, `y`, or `n`, they can be several characters long, like `myVariable`. Variables may contain upper and lowercase letters, numbers (although they cannot start with a number), and the underscore character `_`. This allows your variables to be descriptive of the type of data they contain.\r\n",
        "\r\n",
        "Use the code below to store the string \"hello,\" in a variable and then combine it with \" world!\" and print it to the console.\r\n",
        "\r\n",
        "``` python\r\n",
        "first_word = \"Hello,\"\r\n",
        "print(first_word + \" world!\")\r\n",
        "```\r\n",
        "\r\n",
        "Note: In programming, text is refferred to as a \"string\" because it is an ordered sequence of characters \"strung together\""
      ]
    },
    {
      "cell_type": "code",
      "metadata": {
        "id": "LmuZq8OGQLb4"
      },
      "source": [
        ""
      ],
      "execution_count": 1,
      "outputs": []
    },
    {
      "cell_type": "markdown",
      "metadata": {
        "id": "RuABcneuQQTC"
      },
      "source": [
        "You also just did something cool here! You just demonstrated how the `+` operator can be used for more than regular numerical addition. For strings like this, `+` means concatenation."
      ]
    },
    {
      "cell_type": "markdown",
      "metadata": {
        "id": "PEpB1UHH_BDk"
      },
      "source": [
        "Many times, we will want to add comments to our code. If you put a `#` on a line of code, that line will not be evaluated.\r\n",
        "\r\n",
        "``` python\r\n",
        "# This is a comment in our code\r\n",
        "x = 3\r\n",
        "x = x + 4\r\n",
        "\r\n",
        "# The following line has no effect because it is 'commented out'\r\n",
        "# x = x + 3\r\n",
        "\r\n",
        "print(x)  # x should equal 7\r\n",
        "```"
      ]
    },
    {
      "cell_type": "code",
      "metadata": {
        "id": "uGHvIENH-6fh"
      },
      "source": [
        "# This is a comment in our code\r\n"
      ],
      "execution_count": 2,
      "outputs": []
    },
    {
      "cell_type": "markdown",
      "metadata": {
        "id": "dnelRAUb_i18"
      },
      "source": [
        "## CoLab\r\n",
        "\r\n",
        "Colab is an integrated development environment that is designed for scientists and researchers like **you**. Colab is Google's take on the open source project, \"Jupyter Notebook\".\r\n",
        "\r\n",
        "### Cells\r\n",
        "\r\n",
        "Colab files are divided into two types of cells, \"Code\" and \"Markdown.\" Code cells run the actual logic and data manipulation, while Markdown cells are used for documentation and explanation. These pieces of instruction text are all contained in markdown cells.\r\n",
        "\r\n",
        "---\r\n",
        "\r\n",
        "Click the ```+ Text``` button to create your own markdown cell below this one. When you edit your markdown cell, you can use the toolbar to format the text and add images to the cell. In CoLab, you'll see the markdown code on the left and a preview on the right. Markdown cells are great for organizing your project and documenting your train of thought.\r\n",
        "\r\n",
        "Below, I've created an example markdown cell. See if you can make something similar.\r\n",
        "\r\n",
        "Note: You can also move cells around by pressing the up or down arrows to the right."
      ]
    },
    {
      "cell_type": "markdown",
      "metadata": {
        "id": "ffYOdNwZBs8P"
      },
      "source": [
        "# This is a header\r\n",
        "And here is some **really important text**\r\n",
        "\r\n",
        "I think I should\r\n",
        "0. Make a numbered list\r\n",
        "0. Add an item to that list\r\n",
        "\r\n",
        "## This is a subheader\r\n",
        "* Make a bulleted list\r\n",
        "* And add another item to the bulleted list"
      ]
    },
    {
      "cell_type": "markdown",
      "metadata": {
        "id": "aBcqiVI5_Dmf"
      },
      "source": [
        "# External Libraries\r\n",
        "\r\n",
        "One of the benefits to using Python is that there is a very large support community and a bunch of prebuilt libraries that you can import into your project.\r\n",
        "\r\n",
        "Let's say you want to generate a random value between 0 and 1. Run the cell below to confirm that it fails"
      ]
    },
    {
      "cell_type": "code",
      "metadata": {
        "colab": {
          "base_uri": "https://localhost:8080/",
          "height": 180
        },
        "id": "34XySqfbC_wb",
        "outputId": "24fd1c11-21e6-42e4-abd2-2b93f8a03986"
      },
      "source": [
        "x = random.random()\r\n",
        "print(x)"
      ],
      "execution_count": 4,
      "outputs": [
        {
          "output_type": "error",
          "ename": "NameError",
          "evalue": "ignored",
          "traceback": [
            "\u001b[0;31m---------------------------------------------------------------------------\u001b[0m",
            "\u001b[0;31mNameError\u001b[0m                                 Traceback (most recent call last)",
            "\u001b[0;32m<ipython-input-4-b17da23f5615>\u001b[0m in \u001b[0;36m<module>\u001b[0;34m()\u001b[0m\n\u001b[0;32m----> 1\u001b[0;31m \u001b[0mx\u001b[0m \u001b[0;34m=\u001b[0m \u001b[0mrandom\u001b[0m\u001b[0;34m.\u001b[0m\u001b[0mrandom\u001b[0m\u001b[0;34m(\u001b[0m\u001b[0;34m)\u001b[0m\u001b[0;34m\u001b[0m\u001b[0;34m\u001b[0m\u001b[0m\n\u001b[0m\u001b[1;32m      2\u001b[0m \u001b[0mprint\u001b[0m\u001b[0;34m(\u001b[0m\u001b[0mx\u001b[0m\u001b[0;34m)\u001b[0m\u001b[0;34m\u001b[0m\u001b[0;34m\u001b[0m\u001b[0m\n",
            "\u001b[0;31mNameError\u001b[0m: name 'random' is not defined"
          ]
        }
      ]
    },
    {
      "cell_type": "markdown",
      "metadata": {
        "id": "exNULIpoDChm"
      },
      "source": [
        "To make this work, we need to import the ```random``` library"
      ]
    },
    {
      "cell_type": "code",
      "metadata": {
        "id": "rxIqSjP4Dp2q"
      },
      "source": [
        "# Run this cell to import the 'random' library\r\n",
        "import random"
      ],
      "execution_count": 5,
      "outputs": []
    },
    {
      "cell_type": "code",
      "metadata": {
        "colab": {
          "base_uri": "https://localhost:8080/"
        },
        "id": "9i17KFWIDu_F",
        "outputId": "ee2a0055-7f1e-4802-f6fa-ecb92a9b6655"
      },
      "source": [
        "# After importing the random library, you can use it in your code. This should now succeed:\r\n",
        "x = random.random()\r\n",
        "print(x)"
      ],
      "execution_count": 6,
      "outputs": [
        {
          "output_type": "stream",
          "text": [
            "0.39616592795867256\n"
          ],
          "name": "stdout"
        }
      ]
    },
    {
      "cell_type": "markdown",
      "metadata": {
        "id": "M_ZdpOq_D7Q0"
      },
      "source": [
        "# Import external data into a Notebook\r\n",
        "\r\n",
        "\"Pandas\" is a popular data science library for Python. We're going to use it to load WHO COVID data into our project.\r\n",
        "\r\n",
        "For simplicity, the ```pandas``` library is often given a pseudonym ```pd```. Type the following to import pandas and give it a psuedonym:\r\n",
        "\r\n",
        "``` python\r\n",
        "import pandas as pd\r\n",
        "```"
      ]
    },
    {
      "cell_type": "code",
      "metadata": {
        "id": "2TT30AWeM2YR"
      },
      "source": [
        "# Import the pandas library with the pseudonym pd\r\n",
        "import pandas as pd"
      ],
      "execution_count": 7,
      "outputs": []
    },
    {
      "cell_type": "markdown",
      "metadata": {
        "id": "OCu9AICqM7LJ"
      },
      "source": [
        "We're going to pull our state Covid data from the Ohio.gov website https://coronavirus.ohio.gov/wps/portal/gov/covid-19/dashboards/key-metrics/cases-by-zipcode. This page links to this comma separated value (csv) file:\r\n",
        "\r\n",
        "https://coronavirus.ohio.gov/static/dashboards/COVIDSummaryDataZIP.csv\r\n",
        "\r\n",
        "Using Pandas, we can import that file directly with the `pd.read_csv(FILE_LOCATION)` method."
      ]
    },
    {
      "cell_type": "code",
      "metadata": {
        "colab": {
          "base_uri": "https://localhost:8080/",
          "height": 450
        },
        "id": "FltB76yFS6Eg",
        "outputId": "f775c4e2-a170-4d0d-dbe9-80addaf18c4e"
      },
      "source": [
        "data = pd.read_csv('https://coronavirus.ohio.gov/static/dashboards/COVIDSummaryDataZIP.csv', index_col='Zip Code ')\r\n",
        "data"
      ],
      "execution_count": 8,
      "outputs": [
        {
          "output_type": "execute_result",
          "data": {
            "text/html": [
              "<div>\n",
              "<style scoped>\n",
              "    .dataframe tbody tr th:only-of-type {\n",
              "        vertical-align: middle;\n",
              "    }\n",
              "\n",
              "    .dataframe tbody tr th {\n",
              "        vertical-align: top;\n",
              "    }\n",
              "\n",
              "    .dataframe thead th {\n",
              "        text-align: right;\n",
              "    }\n",
              "</style>\n",
              "<table border=\"1\" class=\"dataframe\">\n",
              "  <thead>\n",
              "    <tr style=\"text-align: right;\">\n",
              "      <th></th>\n",
              "      <th>Population</th>\n",
              "      <th>Case Count - Cumulative</th>\n",
              "      <th>Case Count - Last 30 Days</th>\n",
              "      <th>Case Count - Last 14 Days</th>\n",
              "      <th>Case Count Per 100K - Cumulative</th>\n",
              "      <th>Case Count Per 100K - Last 30 Days</th>\n",
              "      <th>Case Count Per 100K - Last 14 Days</th>\n",
              "    </tr>\n",
              "    <tr>\n",
              "      <th>Zip Code</th>\n",
              "      <th></th>\n",
              "      <th></th>\n",
              "      <th></th>\n",
              "      <th></th>\n",
              "      <th></th>\n",
              "      <th></th>\n",
              "      <th></th>\n",
              "    </tr>\n",
              "  </thead>\n",
              "  <tbody>\n",
              "    <tr>\n",
              "      <th>43001</th>\n",
              "      <td>2,810</td>\n",
              "      <td>155</td>\n",
              "      <td>35</td>\n",
              "      <td>11.0</td>\n",
              "      <td>5,516.00</td>\n",
              "      <td>1,245.60</td>\n",
              "      <td>391.5</td>\n",
              "    </tr>\n",
              "    <tr>\n",
              "      <th>43002</th>\n",
              "      <td>3,744</td>\n",
              "      <td>NaN</td>\n",
              "      <td>NaN</td>\n",
              "      <td>NaN</td>\n",
              "      <td>NaN</td>\n",
              "      <td>NaN</td>\n",
              "      <td>NaN</td>\n",
              "    </tr>\n",
              "    <tr>\n",
              "      <th>43003</th>\n",
              "      <td>3,005</td>\n",
              "      <td>148</td>\n",
              "      <td>59</td>\n",
              "      <td>31.0</td>\n",
              "      <td>4,925.10</td>\n",
              "      <td>1,963.40</td>\n",
              "      <td>1,031.60</td>\n",
              "    </tr>\n",
              "    <tr>\n",
              "      <th>43004</th>\n",
              "      <td>26,139</td>\n",
              "      <td>2,370</td>\n",
              "      <td>588</td>\n",
              "      <td>236.0</td>\n",
              "      <td>9,066.90</td>\n",
              "      <td>2,249.50</td>\n",
              "      <td>902.9</td>\n",
              "    </tr>\n",
              "    <tr>\n",
              "      <th>43005</th>\n",
              "      <td>201</td>\n",
              "      <td>10</td>\n",
              "      <td>NaN</td>\n",
              "      <td>NaN</td>\n",
              "      <td>4,975.10</td>\n",
              "      <td>NaN</td>\n",
              "      <td>NaN</td>\n",
              "    </tr>\n",
              "    <tr>\n",
              "      <th>...</th>\n",
              "      <td>...</td>\n",
              "      <td>...</td>\n",
              "      <td>...</td>\n",
              "      <td>...</td>\n",
              "      <td>...</td>\n",
              "      <td>...</td>\n",
              "      <td>...</td>\n",
              "    </tr>\n",
              "    <tr>\n",
              "      <th>45896</th>\n",
              "      <td>1,839</td>\n",
              "      <td>171</td>\n",
              "      <td>46</td>\n",
              "      <td>27.0</td>\n",
              "      <td>9,298.50</td>\n",
              "      <td>2,501.40</td>\n",
              "      <td>1,468.20</td>\n",
              "    </tr>\n",
              "    <tr>\n",
              "      <th>45897</th>\n",
              "      <td>36</td>\n",
              "      <td>NaN</td>\n",
              "      <td>NaN</td>\n",
              "      <td>NaN</td>\n",
              "      <td>NaN</td>\n",
              "      <td>NaN</td>\n",
              "      <td>NaN</td>\n",
              "    </tr>\n",
              "    <tr>\n",
              "      <th>45898</th>\n",
              "      <td>873</td>\n",
              "      <td>66</td>\n",
              "      <td>6</td>\n",
              "      <td>NaN</td>\n",
              "      <td>7,560.10</td>\n",
              "      <td>687.3</td>\n",
              "      <td>NaN</td>\n",
              "    </tr>\n",
              "    <tr>\n",
              "      <th>45899</th>\n",
              "      <td>110</td>\n",
              "      <td>19</td>\n",
              "      <td>NaN</td>\n",
              "      <td>NaN</td>\n",
              "      <td>17,272.70</td>\n",
              "      <td>NaN</td>\n",
              "      <td>NaN</td>\n",
              "    </tr>\n",
              "    <tr>\n",
              "      <th>Unknown</th>\n",
              "      <td>NaN</td>\n",
              "      <td>9,507</td>\n",
              "      <td>2,510</td>\n",
              "      <td>751.0</td>\n",
              "      <td>NaN</td>\n",
              "      <td>NaN</td>\n",
              "      <td>NaN</td>\n",
              "    </tr>\n",
              "  </tbody>\n",
              "</table>\n",
              "<p>1190 rows × 7 columns</p>\n",
              "</div>"
            ],
            "text/plain": [
              "          Population  ... Case Count Per 100K - Last 14 Days\n",
              "Zip Code              ...                                   \n",
              "43001          2,810  ...                              391.5\n",
              "43002          3,744  ...                                NaN\n",
              "43003          3,005  ...                           1,031.60\n",
              "43004         26,139  ...                              902.9\n",
              "43005            201  ...                                NaN\n",
              "...              ...  ...                                ...\n",
              "45896          1,839  ...                           1,468.20\n",
              "45897             36  ...                                NaN\n",
              "45898            873  ...                                NaN\n",
              "45899            110  ...                                NaN\n",
              "Unknown          NaN  ...                                NaN\n",
              "\n",
              "[1190 rows x 7 columns]"
            ]
          },
          "metadata": {
            "tags": []
          },
          "execution_count": 8
        }
      ]
    },
    {
      "cell_type": "code",
      "metadata": {
        "colab": {
          "base_uri": "https://localhost:8080/"
        },
        "id": "IwVHOMUaNDtI",
        "outputId": "4dbf166a-24d0-4e46-91ea-dc14985f3d75"
      },
      "source": [
        "data.dtypes"
      ],
      "execution_count": 9,
      "outputs": [
        {
          "output_type": "execute_result",
          "data": {
            "text/plain": [
              "Population                             object\n",
              "Case Count - Cumulative                object\n",
              "Case Count - Last 30 Days              object\n",
              "Case Count - Last 14 Days             float64\n",
              "Case Count Per 100K - Cumulative       object\n",
              "Case Count Per 100K - Last 30 Days     object\n",
              "Case Count Per 100K - Last 14 Days     object\n",
              "dtype: object"
            ]
          },
          "metadata": {
            "tags": []
          },
          "execution_count": 9
        }
      ]
    },
    {
      "cell_type": "code",
      "metadata": {
        "colab": {
          "base_uri": "https://localhost:8080/"
        },
        "id": "cNJyytKcNFBH",
        "outputId": "7d0a9d53-70ac-4bf5-cad1-9f6afac6ca9b"
      },
      "source": [
        "data = data.apply(pd.to_numeric, errors='coerce')\r\n",
        "data.dtypes"
      ],
      "execution_count": 10,
      "outputs": [
        {
          "output_type": "execute_result",
          "data": {
            "text/plain": [
              "Population                            float64\n",
              "Case Count - Cumulative               float64\n",
              "Case Count - Last 30 Days             float64\n",
              "Case Count - Last 14 Days             float64\n",
              "Case Count Per 100K - Cumulative      float64\n",
              "Case Count Per 100K - Last 30 Days    float64\n",
              "Case Count Per 100K - Last 14 Days    float64\n",
              "dtype: object"
            ]
          },
          "metadata": {
            "tags": []
          },
          "execution_count": 10
        }
      ]
    },
    {
      "cell_type": "markdown",
      "metadata": {
        "id": "DIaEqwoaZl2w"
      },
      "source": [
        "We can access a specific column of data from our DataFrame by referencing its label as a string in brackets:"
      ]
    },
    {
      "cell_type": "code",
      "metadata": {
        "id": "9YmU1IbpahoR",
        "colab": {
          "base_uri": "https://localhost:8080/"
        },
        "outputId": "f46501a5-159e-4d30-eedf-c9570e420096"
      },
      "source": [
        "# Display the 'Cases - cumulative total' column\r\n",
        "data['Case Count - Cumulative']"
      ],
      "execution_count": 11,
      "outputs": [
        {
          "output_type": "execute_result",
          "data": {
            "text/plain": [
              "Zip Code \n",
              "43001      155.0\n",
              "43002        NaN\n",
              "43003      148.0\n",
              "43004        NaN\n",
              "43005       10.0\n",
              "           ...  \n",
              "45896      171.0\n",
              "45897        NaN\n",
              "45898       66.0\n",
              "45899       19.0\n",
              "Unknown      NaN\n",
              "Name: Case Count - Cumulative, Length: 1190, dtype: float64"
            ]
          },
          "metadata": {
            "tags": []
          },
          "execution_count": 11
        }
      ]
    },
    {
      "cell_type": "markdown",
      "metadata": {
        "id": "qkyYs2aIbBq9"
      },
      "source": [
        "If you want to access just a part of your data two columns, use double-brackets like this:\r\n",
        "\r\n",
        "``` python\r\n",
        "data[['Cases - cumulative total', 'Deaths - cumulative total per 1 million population']]\r\n",
        "```"
      ]
    },
    {
      "cell_type": "code",
      "metadata": {
        "colab": {
          "base_uri": "https://localhost:8080/"
        },
        "id": "pbQHEweeKeSW",
        "outputId": "2b615efa-cb46-4877-d633-deccbeed497a"
      },
      "source": [
        "data.columns"
      ],
      "execution_count": 12,
      "outputs": [
        {
          "output_type": "execute_result",
          "data": {
            "text/plain": [
              "Index(['Population', 'Case Count - Cumulative', 'Case Count - Last 30 Days ',\n",
              "       'Case Count - Last 14 Days ', 'Case Count Per 100K - Cumulative',\n",
              "       'Case Count Per 100K - Last 30 Days',\n",
              "       'Case Count Per 100K - Last 14 Days'],\n",
              "      dtype='object')"
            ]
          },
          "metadata": {
            "tags": []
          },
          "execution_count": 12
        }
      ]
    },
    {
      "cell_type": "code",
      "metadata": {
        "colab": {
          "base_uri": "https://localhost:8080/",
          "height": 450
        },
        "id": "r8RhmnCfaQah",
        "outputId": "a1cb70d8-e18f-4596-e903-93b079c98f06"
      },
      "source": [
        "# Display the subset of cumulative cases and deaths per 1 million\r\n",
        "data[['Case Count - Cumulative', 'Case Count - Last 30 Days ']]"
      ],
      "execution_count": 13,
      "outputs": [
        {
          "output_type": "execute_result",
          "data": {
            "text/html": [
              "<div>\n",
              "<style scoped>\n",
              "    .dataframe tbody tr th:only-of-type {\n",
              "        vertical-align: middle;\n",
              "    }\n",
              "\n",
              "    .dataframe tbody tr th {\n",
              "        vertical-align: top;\n",
              "    }\n",
              "\n",
              "    .dataframe thead th {\n",
              "        text-align: right;\n",
              "    }\n",
              "</style>\n",
              "<table border=\"1\" class=\"dataframe\">\n",
              "  <thead>\n",
              "    <tr style=\"text-align: right;\">\n",
              "      <th></th>\n",
              "      <th>Case Count - Cumulative</th>\n",
              "      <th>Case Count - Last 30 Days</th>\n",
              "    </tr>\n",
              "    <tr>\n",
              "      <th>Zip Code</th>\n",
              "      <th></th>\n",
              "      <th></th>\n",
              "    </tr>\n",
              "  </thead>\n",
              "  <tbody>\n",
              "    <tr>\n",
              "      <th>43001</th>\n",
              "      <td>155.0</td>\n",
              "      <td>35.0</td>\n",
              "    </tr>\n",
              "    <tr>\n",
              "      <th>43002</th>\n",
              "      <td>NaN</td>\n",
              "      <td>NaN</td>\n",
              "    </tr>\n",
              "    <tr>\n",
              "      <th>43003</th>\n",
              "      <td>148.0</td>\n",
              "      <td>59.0</td>\n",
              "    </tr>\n",
              "    <tr>\n",
              "      <th>43004</th>\n",
              "      <td>NaN</td>\n",
              "      <td>588.0</td>\n",
              "    </tr>\n",
              "    <tr>\n",
              "      <th>43005</th>\n",
              "      <td>10.0</td>\n",
              "      <td>NaN</td>\n",
              "    </tr>\n",
              "    <tr>\n",
              "      <th>...</th>\n",
              "      <td>...</td>\n",
              "      <td>...</td>\n",
              "    </tr>\n",
              "    <tr>\n",
              "      <th>45896</th>\n",
              "      <td>171.0</td>\n",
              "      <td>46.0</td>\n",
              "    </tr>\n",
              "    <tr>\n",
              "      <th>45897</th>\n",
              "      <td>NaN</td>\n",
              "      <td>NaN</td>\n",
              "    </tr>\n",
              "    <tr>\n",
              "      <th>45898</th>\n",
              "      <td>66.0</td>\n",
              "      <td>6.0</td>\n",
              "    </tr>\n",
              "    <tr>\n",
              "      <th>45899</th>\n",
              "      <td>19.0</td>\n",
              "      <td>NaN</td>\n",
              "    </tr>\n",
              "    <tr>\n",
              "      <th>Unknown</th>\n",
              "      <td>NaN</td>\n",
              "      <td>NaN</td>\n",
              "    </tr>\n",
              "  </tbody>\n",
              "</table>\n",
              "<p>1190 rows × 2 columns</p>\n",
              "</div>"
            ],
            "text/plain": [
              "           Case Count - Cumulative  Case Count - Last 30 Days \n",
              "Zip Code                                                      \n",
              "43001                        155.0                        35.0\n",
              "43002                          NaN                         NaN\n",
              "43003                        148.0                        59.0\n",
              "43004                          NaN                       588.0\n",
              "43005                         10.0                         NaN\n",
              "...                            ...                         ...\n",
              "45896                        171.0                        46.0\n",
              "45897                          NaN                         NaN\n",
              "45898                         66.0                         6.0\n",
              "45899                         19.0                         NaN\n",
              "Unknown                        NaN                         NaN\n",
              "\n",
              "[1190 rows x 2 columns]"
            ]
          },
          "metadata": {
            "tags": []
          },
          "execution_count": 13
        }
      ]
    },
    {
      "cell_type": "markdown",
      "metadata": {
        "id": "YkPno8leTsA8"
      },
      "source": [
        "Pandas data include some built-in methods to help us visualize our data. Try each of the following built-in commands by typing `data.COMMAND_NAME()`. The first is done for you.\r\n",
        "\r\n",
        "\r\n",
        "| Command | Description |\r\n",
        "|--------|---------|\r\n",
        "| head() | Display the first few rows of data |\r\n",
        "| tail(10) | Display the last 10 few rows of data. Note: can also add a number to the head() command to do similarly. |\r\n",
        "| describe() | Display basic statistics about the data |\r\n",
        "| transpose() | Transpose the rows with the columns (basically, turn it on its side) |\r\n",
        "| sort_values(COL_NAME) | Sort the data by the values from a specific column |\r\n",
        "| columns | Display the column labels (note, there are no parentheses for this command) |\r\n",
        "| shape | Display the size of the data frame |"
      ]
    },
    {
      "cell_type": "code",
      "metadata": {
        "colab": {
          "base_uri": "https://localhost:8080/",
          "height": 235
        },
        "id": "m2PQlD7DUhI1",
        "outputId": "0dfb6825-a69c-4474-f2f5-ebea7c193eee"
      },
      "source": [
        "# Use the head() command to view the first few rows of the data\r\n",
        "data.head()"
      ],
      "execution_count": 14,
      "outputs": [
        {
          "output_type": "execute_result",
          "data": {
            "text/html": [
              "<div>\n",
              "<style scoped>\n",
              "    .dataframe tbody tr th:only-of-type {\n",
              "        vertical-align: middle;\n",
              "    }\n",
              "\n",
              "    .dataframe tbody tr th {\n",
              "        vertical-align: top;\n",
              "    }\n",
              "\n",
              "    .dataframe thead th {\n",
              "        text-align: right;\n",
              "    }\n",
              "</style>\n",
              "<table border=\"1\" class=\"dataframe\">\n",
              "  <thead>\n",
              "    <tr style=\"text-align: right;\">\n",
              "      <th></th>\n",
              "      <th>Population</th>\n",
              "      <th>Case Count - Cumulative</th>\n",
              "      <th>Case Count - Last 30 Days</th>\n",
              "      <th>Case Count - Last 14 Days</th>\n",
              "      <th>Case Count Per 100K - Cumulative</th>\n",
              "      <th>Case Count Per 100K - Last 30 Days</th>\n",
              "      <th>Case Count Per 100K - Last 14 Days</th>\n",
              "    </tr>\n",
              "    <tr>\n",
              "      <th>Zip Code</th>\n",
              "      <th></th>\n",
              "      <th></th>\n",
              "      <th></th>\n",
              "      <th></th>\n",
              "      <th></th>\n",
              "      <th></th>\n",
              "      <th></th>\n",
              "    </tr>\n",
              "  </thead>\n",
              "  <tbody>\n",
              "    <tr>\n",
              "      <th>43001</th>\n",
              "      <td>NaN</td>\n",
              "      <td>155.0</td>\n",
              "      <td>35.0</td>\n",
              "      <td>11.0</td>\n",
              "      <td>NaN</td>\n",
              "      <td>NaN</td>\n",
              "      <td>391.5</td>\n",
              "    </tr>\n",
              "    <tr>\n",
              "      <th>43002</th>\n",
              "      <td>NaN</td>\n",
              "      <td>NaN</td>\n",
              "      <td>NaN</td>\n",
              "      <td>NaN</td>\n",
              "      <td>NaN</td>\n",
              "      <td>NaN</td>\n",
              "      <td>NaN</td>\n",
              "    </tr>\n",
              "    <tr>\n",
              "      <th>43003</th>\n",
              "      <td>NaN</td>\n",
              "      <td>148.0</td>\n",
              "      <td>59.0</td>\n",
              "      <td>31.0</td>\n",
              "      <td>NaN</td>\n",
              "      <td>NaN</td>\n",
              "      <td>NaN</td>\n",
              "    </tr>\n",
              "    <tr>\n",
              "      <th>43004</th>\n",
              "      <td>NaN</td>\n",
              "      <td>NaN</td>\n",
              "      <td>588.0</td>\n",
              "      <td>236.0</td>\n",
              "      <td>NaN</td>\n",
              "      <td>NaN</td>\n",
              "      <td>902.9</td>\n",
              "    </tr>\n",
              "    <tr>\n",
              "      <th>43005</th>\n",
              "      <td>201.0</td>\n",
              "      <td>10.0</td>\n",
              "      <td>NaN</td>\n",
              "      <td>NaN</td>\n",
              "      <td>NaN</td>\n",
              "      <td>NaN</td>\n",
              "      <td>NaN</td>\n",
              "    </tr>\n",
              "  </tbody>\n",
              "</table>\n",
              "</div>"
            ],
            "text/plain": [
              "           Population  ...  Case Count Per 100K - Last 14 Days\n",
              "Zip Code               ...                                    \n",
              "43001             NaN  ...                               391.5\n",
              "43002             NaN  ...                                 NaN\n",
              "43003             NaN  ...                                 NaN\n",
              "43004             NaN  ...                               902.9\n",
              "43005           201.0  ...                                 NaN\n",
              "\n",
              "[5 rows x 7 columns]"
            ]
          },
          "metadata": {
            "tags": []
          },
          "execution_count": 14
        }
      ]
    },
    {
      "cell_type": "code",
      "metadata": {
        "colab": {
          "base_uri": "https://localhost:8080/",
          "height": 390
        },
        "id": "s3G-vDZPTAWs",
        "outputId": "db0a71f7-8179-4f09-e960-6b34d8ebcda0"
      },
      "source": [
        "# Use the tail(10) command to display the last 10 rows of data\r\n",
        "data.tail(10)"
      ],
      "execution_count": 15,
      "outputs": [
        {
          "output_type": "execute_result",
          "data": {
            "text/html": [
              "<div>\n",
              "<style scoped>\n",
              "    .dataframe tbody tr th:only-of-type {\n",
              "        vertical-align: middle;\n",
              "    }\n",
              "\n",
              "    .dataframe tbody tr th {\n",
              "        vertical-align: top;\n",
              "    }\n",
              "\n",
              "    .dataframe thead th {\n",
              "        text-align: right;\n",
              "    }\n",
              "</style>\n",
              "<table border=\"1\" class=\"dataframe\">\n",
              "  <thead>\n",
              "    <tr style=\"text-align: right;\">\n",
              "      <th></th>\n",
              "      <th>Population</th>\n",
              "      <th>Case Count - Cumulative</th>\n",
              "      <th>Case Count - Last 30 Days</th>\n",
              "      <th>Case Count - Last 14 Days</th>\n",
              "      <th>Case Count Per 100K - Cumulative</th>\n",
              "      <th>Case Count Per 100K - Last 30 Days</th>\n",
              "      <th>Case Count Per 100K - Last 14 Days</th>\n",
              "    </tr>\n",
              "    <tr>\n",
              "      <th>Zip Code</th>\n",
              "      <th></th>\n",
              "      <th></th>\n",
              "      <th></th>\n",
              "      <th></th>\n",
              "      <th></th>\n",
              "      <th></th>\n",
              "      <th></th>\n",
              "    </tr>\n",
              "  </thead>\n",
              "  <tbody>\n",
              "    <tr>\n",
              "      <th>45889</th>\n",
              "      <td>NaN</td>\n",
              "      <td>92.0</td>\n",
              "      <td>24.0</td>\n",
              "      <td>5.0</td>\n",
              "      <td>NaN</td>\n",
              "      <td>NaN</td>\n",
              "      <td>306.0</td>\n",
              "    </tr>\n",
              "    <tr>\n",
              "      <th>45890</th>\n",
              "      <td>488.0</td>\n",
              "      <td>35.0</td>\n",
              "      <td>7.0</td>\n",
              "      <td>NaN</td>\n",
              "      <td>NaN</td>\n",
              "      <td>NaN</td>\n",
              "      <td>NaN</td>\n",
              "    </tr>\n",
              "    <tr>\n",
              "      <th>45891</th>\n",
              "      <td>NaN</td>\n",
              "      <td>NaN</td>\n",
              "      <td>284.0</td>\n",
              "      <td>100.0</td>\n",
              "      <td>NaN</td>\n",
              "      <td>NaN</td>\n",
              "      <td>670.9</td>\n",
              "    </tr>\n",
              "    <tr>\n",
              "      <th>45894</th>\n",
              "      <td>635.0</td>\n",
              "      <td>41.0</td>\n",
              "      <td>7.0</td>\n",
              "      <td>NaN</td>\n",
              "      <td>NaN</td>\n",
              "      <td>NaN</td>\n",
              "      <td>NaN</td>\n",
              "    </tr>\n",
              "    <tr>\n",
              "      <th>45895</th>\n",
              "      <td>NaN</td>\n",
              "      <td>NaN</td>\n",
              "      <td>328.0</td>\n",
              "      <td>106.0</td>\n",
              "      <td>NaN</td>\n",
              "      <td>NaN</td>\n",
              "      <td>591.2</td>\n",
              "    </tr>\n",
              "    <tr>\n",
              "      <th>45896</th>\n",
              "      <td>NaN</td>\n",
              "      <td>171.0</td>\n",
              "      <td>46.0</td>\n",
              "      <td>27.0</td>\n",
              "      <td>NaN</td>\n",
              "      <td>NaN</td>\n",
              "      <td>NaN</td>\n",
              "    </tr>\n",
              "    <tr>\n",
              "      <th>45897</th>\n",
              "      <td>36.0</td>\n",
              "      <td>NaN</td>\n",
              "      <td>NaN</td>\n",
              "      <td>NaN</td>\n",
              "      <td>NaN</td>\n",
              "      <td>NaN</td>\n",
              "      <td>NaN</td>\n",
              "    </tr>\n",
              "    <tr>\n",
              "      <th>45898</th>\n",
              "      <td>873.0</td>\n",
              "      <td>66.0</td>\n",
              "      <td>6.0</td>\n",
              "      <td>NaN</td>\n",
              "      <td>NaN</td>\n",
              "      <td>687.3</td>\n",
              "      <td>NaN</td>\n",
              "    </tr>\n",
              "    <tr>\n",
              "      <th>45899</th>\n",
              "      <td>110.0</td>\n",
              "      <td>19.0</td>\n",
              "      <td>NaN</td>\n",
              "      <td>NaN</td>\n",
              "      <td>NaN</td>\n",
              "      <td>NaN</td>\n",
              "      <td>NaN</td>\n",
              "    </tr>\n",
              "    <tr>\n",
              "      <th>Unknown</th>\n",
              "      <td>NaN</td>\n",
              "      <td>NaN</td>\n",
              "      <td>NaN</td>\n",
              "      <td>751.0</td>\n",
              "      <td>NaN</td>\n",
              "      <td>NaN</td>\n",
              "      <td>NaN</td>\n",
              "    </tr>\n",
              "  </tbody>\n",
              "</table>\n",
              "</div>"
            ],
            "text/plain": [
              "           Population  ...  Case Count Per 100K - Last 14 Days\n",
              "Zip Code               ...                                    \n",
              "45889             NaN  ...                               306.0\n",
              "45890           488.0  ...                                 NaN\n",
              "45891             NaN  ...                               670.9\n",
              "45894           635.0  ...                                 NaN\n",
              "45895             NaN  ...                               591.2\n",
              "45896             NaN  ...                                 NaN\n",
              "45897            36.0  ...                                 NaN\n",
              "45898           873.0  ...                                 NaN\n",
              "45899           110.0  ...                                 NaN\n",
              "Unknown           NaN  ...                                 NaN\n",
              "\n",
              "[10 rows x 7 columns]"
            ]
          },
          "metadata": {
            "tags": []
          },
          "execution_count": 15
        }
      ]
    },
    {
      "cell_type": "markdown",
      "metadata": {
        "id": "-ol9gilnXMKd"
      },
      "source": [
        "Commands in python can be chained together if you want to apply two or more transformations on the data. Type the following to chain .describe() with .transpose() to get a nice printout of the data statistics:\r\n",
        "\r\n",
        "``` python\r\n",
        "data.describe().transpose()\r\n",
        "```"
      ]
    },
    {
      "cell_type": "code",
      "metadata": {
        "colab": {
          "base_uri": "https://localhost:8080/",
          "height": 266
        },
        "id": "8QetYIjbX9y1",
        "outputId": "6e976c41-925a-4fe7-b668-b21157a6ea35"
      },
      "source": [
        "# Chain together .describe() with .transpose() to get descriptive statistics about the data\r\n",
        "data.describe(include='all').transpose()"
      ],
      "execution_count": 16,
      "outputs": [
        {
          "output_type": "execute_result",
          "data": {
            "text/html": [
              "<div>\n",
              "<style scoped>\n",
              "    .dataframe tbody tr th:only-of-type {\n",
              "        vertical-align: middle;\n",
              "    }\n",
              "\n",
              "    .dataframe tbody tr th {\n",
              "        vertical-align: top;\n",
              "    }\n",
              "\n",
              "    .dataframe thead th {\n",
              "        text-align: right;\n",
              "    }\n",
              "</style>\n",
              "<table border=\"1\" class=\"dataframe\">\n",
              "  <thead>\n",
              "    <tr style=\"text-align: right;\">\n",
              "      <th></th>\n",
              "      <th>count</th>\n",
              "      <th>mean</th>\n",
              "      <th>std</th>\n",
              "      <th>min</th>\n",
              "      <th>25%</th>\n",
              "      <th>50%</th>\n",
              "      <th>75%</th>\n",
              "      <th>max</th>\n",
              "    </tr>\n",
              "  </thead>\n",
              "  <tbody>\n",
              "    <tr>\n",
              "      <th>Population</th>\n",
              "      <td>259.0</td>\n",
              "      <td>372.617761</td>\n",
              "      <td>273.717511</td>\n",
              "      <td>13.0</td>\n",
              "      <td>141.000</td>\n",
              "      <td>309.0</td>\n",
              "      <td>571.000</td>\n",
              "      <td>986.0</td>\n",
              "    </tr>\n",
              "    <tr>\n",
              "      <th>Case Count - Cumulative</th>\n",
              "      <td>851.0</td>\n",
              "      <td>239.794360</td>\n",
              "      <td>248.609694</td>\n",
              "      <td>5.0</td>\n",
              "      <td>59.000</td>\n",
              "      <td>144.0</td>\n",
              "      <td>342.500</td>\n",
              "      <td>999.0</td>\n",
              "    </tr>\n",
              "    <tr>\n",
              "      <th>Case Count - Last 30 Days</th>\n",
              "      <td>1032.0</td>\n",
              "      <td>175.342054</td>\n",
              "      <td>207.736591</td>\n",
              "      <td>5.0</td>\n",
              "      <td>28.750</td>\n",
              "      <td>79.0</td>\n",
              "      <td>263.250</td>\n",
              "      <td>990.0</td>\n",
              "    </tr>\n",
              "    <tr>\n",
              "      <th>Case Count - Last 14 Days</th>\n",
              "      <td>927.0</td>\n",
              "      <td>74.366775</td>\n",
              "      <td>88.959969</td>\n",
              "      <td>5.0</td>\n",
              "      <td>14.500</td>\n",
              "      <td>36.0</td>\n",
              "      <td>103.500</td>\n",
              "      <td>751.0</td>\n",
              "    </tr>\n",
              "    <tr>\n",
              "      <th>Case Count Per 100K - Cumulative</th>\n",
              "      <td>0.0</td>\n",
              "      <td>NaN</td>\n",
              "      <td>NaN</td>\n",
              "      <td>NaN</td>\n",
              "      <td>NaN</td>\n",
              "      <td>NaN</td>\n",
              "      <td>NaN</td>\n",
              "      <td>NaN</td>\n",
              "    </tr>\n",
              "    <tr>\n",
              "      <th>Case Count Per 100K - Last 30 Days</th>\n",
              "      <td>106.0</td>\n",
              "      <td>787.954717</td>\n",
              "      <td>183.456928</td>\n",
              "      <td>181.8</td>\n",
              "      <td>701.475</td>\n",
              "      <td>834.6</td>\n",
              "      <td>927.575</td>\n",
              "      <td>998.3</td>\n",
              "    </tr>\n",
              "    <tr>\n",
              "      <th>Case Count Per 100K - Last 14 Days</th>\n",
              "      <td>868.0</td>\n",
              "      <td>564.854147</td>\n",
              "      <td>176.934319</td>\n",
              "      <td>39.9</td>\n",
              "      <td>437.225</td>\n",
              "      <td>555.7</td>\n",
              "      <td>686.575</td>\n",
              "      <td>992.1</td>\n",
              "    </tr>\n",
              "  </tbody>\n",
              "</table>\n",
              "</div>"
            ],
            "text/plain": [
              "                                     count        mean  ...      75%    max\n",
              "Population                           259.0  372.617761  ...  571.000  986.0\n",
              "Case Count - Cumulative              851.0  239.794360  ...  342.500  999.0\n",
              "Case Count - Last 30 Days           1032.0  175.342054  ...  263.250  990.0\n",
              "Case Count - Last 14 Days            927.0   74.366775  ...  103.500  751.0\n",
              "Case Count Per 100K - Cumulative       0.0         NaN  ...      NaN    NaN\n",
              "Case Count Per 100K - Last 30 Days   106.0  787.954717  ...  927.575  998.3\n",
              "Case Count Per 100K - Last 14 Days   868.0  564.854147  ...  686.575  992.1\n",
              "\n",
              "[7 rows x 8 columns]"
            ]
          },
          "metadata": {
            "tags": []
          },
          "execution_count": 16
        }
      ]
    },
    {
      "cell_type": "markdown",
      "metadata": {
        "id": "oN1LZFToYDHX"
      },
      "source": [
        "# Create some basic plots to visualize the data\r\n",
        "\r\n",
        "We're going to use *pyplot* from the *matplotlib* library to visualize our data. First, import the library as `plt` and then type `%matplotlib inline`, which is a \"magic function\" to help plots display better in CoLab.\r\n",
        "\r\n",
        "``` python\r\n",
        "import matplotlib.pyplot as plt\r\n",
        "%matplotlib inline\r\n",
        "```"
      ]
    },
    {
      "cell_type": "code",
      "metadata": {
        "id": "7FlgGZQQZLOc"
      },
      "source": [
        "# Import matplotlib.pyplot as plt and set the %matplotlib magic function to inline\r\n",
        "import matplotlib.pyplot as plt\r\n",
        "%matplotlib inline"
      ],
      "execution_count": 17,
      "outputs": []
    },
    {
      "cell_type": "markdown",
      "metadata": {
        "id": "kx48bVbUmx_M"
      },
      "source": [
        "With Pandas and matplotlib, you can easily generate a 20-bin histogram of one of the columns of data by grabbing that column and then appending the command `.plot.hist(bins=20)`"
      ]
    },
    {
      "cell_type": "code",
      "metadata": {
        "colab": {
          "base_uri": "https://localhost:8080/"
        },
        "id": "Ucu3l7j3L4Y5",
        "outputId": "8bca1de9-971b-4c10-c62c-2be0eb2a48e1"
      },
      "source": [
        "data.columns"
      ],
      "execution_count": 18,
      "outputs": [
        {
          "output_type": "execute_result",
          "data": {
            "text/plain": [
              "Index(['Population', 'Case Count - Cumulative', 'Case Count - Last 30 Days ',\n",
              "       'Case Count - Last 14 Days ', 'Case Count Per 100K - Cumulative',\n",
              "       'Case Count Per 100K - Last 30 Days',\n",
              "       'Case Count Per 100K - Last 14 Days'],\n",
              "      dtype='object')"
            ]
          },
          "metadata": {
            "tags": []
          },
          "execution_count": 18
        }
      ]
    },
    {
      "cell_type": "code",
      "metadata": {
        "id": "NczatM-TMd5_"
      },
      "source": [
        ""
      ],
      "execution_count": 18,
      "outputs": []
    },
    {
      "cell_type": "code",
      "metadata": {
        "id": "XWaedpeeMd1Z"
      },
      "source": [
        ""
      ],
      "execution_count": 18,
      "outputs": []
    },
    {
      "cell_type": "code",
      "metadata": {
        "id": "MpXt0krxMdsK"
      },
      "source": [
        ""
      ],
      "execution_count": 18,
      "outputs": []
    },
    {
      "cell_type": "code",
      "metadata": {
        "id": "BbfuG5tLD3Js",
        "colab": {
          "base_uri": "https://localhost:8080/"
        },
        "outputId": "71d93c43-84ce-4337-ede6-b7c99aee2174"
      },
      "source": [
        "# Begin by assigning the 'Cases - cumulative total per 1 million population' to a variable called subdata, and remove NA values\r\n",
        "subdata = data['Case Count Per 100K - Last 30 Days'].dropna()\r\n",
        "subdata"
      ],
      "execution_count": 19,
      "outputs": [
        {
          "output_type": "execute_result",
          "data": {
            "text/plain": [
              "Zip Code \n",
              "43006    763.4\n",
              "43009    856.1\n",
              "43014    883.9\n",
              "43022    688.9\n",
              "43210    183.6\n",
              "         ...  \n",
              "45862    853.0\n",
              "45873    883.8\n",
              "45880    817.8\n",
              "45883    825.4\n",
              "45898    687.3\n",
              "Name: Case Count Per 100K - Last 30 Days, Length: 106, dtype: float64"
            ]
          },
          "metadata": {
            "tags": []
          },
          "execution_count": 19
        }
      ]
    },
    {
      "cell_type": "code",
      "metadata": {
        "colab": {
          "base_uri": "https://localhost:8080/",
          "height": 282
        },
        "id": "YtZua_2CZare",
        "outputId": "0a6134c2-2f38-44ca-d024-305419a93455"
      },
      "source": [
        "# Now take those data and add the .plot.hist(bins=20) to display a 20-bin histogram of data\r\n",
        "subdata.plot.hist(bins=20)"
      ],
      "execution_count": 20,
      "outputs": [
        {
          "output_type": "execute_result",
          "data": {
            "text/plain": [
              "<matplotlib.axes._subplots.AxesSubplot at 0x7f5ff67ca780>"
            ]
          },
          "metadata": {
            "tags": []
          },
          "execution_count": 20
        },
        {
          "output_type": "display_data",
          "data": {
            "image/png": "[encoded data removed]",
            "text/plain": [
              "<Figure size 432x288 with 1 Axes>"
            ]
          },
          "metadata": {
            "tags": [],
            "needs_background": "light"
          }
        }
      ]
    },
    {
      "cell_type": "markdown",
      "metadata": {
        "id": "yMJG_DEhkS4T"
      },
      "source": [
        "MatPlotLib has several other plot types you can use. Below, I've provided you an example of a bar plot comparing cumulative cases with cumulative deaths."
      ]
    },
    {
      "cell_type": "code",
      "metadata": {
        "colab": {
          "base_uri": "https://localhost:8080/"
        },
        "id": "39VD6FE8rIzI",
        "outputId": "20cac02b-fb1c-43d6-bc9d-537f5ff0af97"
      },
      "source": [
        "data.columns"
      ],
      "execution_count": 21,
      "outputs": [
        {
          "output_type": "execute_result",
          "data": {
            "text/plain": [
              "Index(['Population', 'Case Count - Cumulative', 'Case Count - Last 30 Days ',\n",
              "       'Case Count - Last 14 Days ', 'Case Count Per 100K - Cumulative',\n",
              "       'Case Count Per 100K - Last 30 Days',\n",
              "       'Case Count Per 100K - Last 14 Days'],\n",
              "      dtype='object')"
            ]
          },
          "metadata": {
            "tags": []
          },
          "execution_count": 21
        }
      ]
    },
    {
      "cell_type": "code",
      "metadata": {
        "id": "r5apiSJLrVW6"
      },
      "source": [
        "cols_to_sort = ['Population','Case Count - Last 30 Days ']"
      ],
      "execution_count": 22,
      "outputs": []
    },
    {
      "cell_type": "code",
      "metadata": {
        "colab": {
          "base_uri": "https://localhost:8080/",
          "height": 545
        },
        "id": "WeZl5EbBPAZN",
        "outputId": "3156c1a1-486a-4992-b4ba-47e1feea618c"
      },
      "source": [
        "data.sort_values(cols_to_sort, ascending=False).head(15)"
      ],
      "execution_count": 23,
      "outputs": [
        {
          "output_type": "execute_result",
          "data": {
            "text/html": [
              "<div>\n",
              "<style scoped>\n",
              "    .dataframe tbody tr th:only-of-type {\n",
              "        vertical-align: middle;\n",
              "    }\n",
              "\n",
              "    .dataframe tbody tr th {\n",
              "        vertical-align: top;\n",
              "    }\n",
              "\n",
              "    .dataframe thead th {\n",
              "        text-align: right;\n",
              "    }\n",
              "</style>\n",
              "<table border=\"1\" class=\"dataframe\">\n",
              "  <thead>\n",
              "    <tr style=\"text-align: right;\">\n",
              "      <th></th>\n",
              "      <th>Population</th>\n",
              "      <th>Case Count - Cumulative</th>\n",
              "      <th>Case Count - Last 30 Days</th>\n",
              "      <th>Case Count - Last 14 Days</th>\n",
              "      <th>Case Count Per 100K - Cumulative</th>\n",
              "      <th>Case Count Per 100K - Last 30 Days</th>\n",
              "      <th>Case Count Per 100K - Last 14 Days</th>\n",
              "    </tr>\n",
              "    <tr>\n",
              "      <th>Zip Code</th>\n",
              "      <th></th>\n",
              "      <th></th>\n",
              "      <th></th>\n",
              "      <th></th>\n",
              "      <th></th>\n",
              "      <th></th>\n",
              "      <th></th>\n",
              "    </tr>\n",
              "  </thead>\n",
              "  <tbody>\n",
              "    <tr>\n",
              "      <th>43767</th>\n",
              "      <td>986.0</td>\n",
              "      <td>94.0</td>\n",
              "      <td>32.0</td>\n",
              "      <td>6.0</td>\n",
              "      <td>NaN</td>\n",
              "      <td>NaN</td>\n",
              "      <td>608.5</td>\n",
              "    </tr>\n",
              "    <tr>\n",
              "      <th>44454</th>\n",
              "      <td>982.0</td>\n",
              "      <td>76.0</td>\n",
              "      <td>21.0</td>\n",
              "      <td>5.0</td>\n",
              "      <td>NaN</td>\n",
              "      <td>NaN</td>\n",
              "      <td>509.2</td>\n",
              "    </tr>\n",
              "    <tr>\n",
              "      <th>44490</th>\n",
              "      <td>970.0</td>\n",
              "      <td>38.0</td>\n",
              "      <td>8.0</td>\n",
              "      <td>NaN</td>\n",
              "      <td>NaN</td>\n",
              "      <td>824.7</td>\n",
              "      <td>NaN</td>\n",
              "    </tr>\n",
              "    <tr>\n",
              "      <th>45620</th>\n",
              "      <td>955.0</td>\n",
              "      <td>34.0</td>\n",
              "      <td>15.0</td>\n",
              "      <td>7.0</td>\n",
              "      <td>NaN</td>\n",
              "      <td>NaN</td>\n",
              "      <td>733.0</td>\n",
              "    </tr>\n",
              "    <tr>\n",
              "      <th>44802</th>\n",
              "      <td>951.0</td>\n",
              "      <td>61.0</td>\n",
              "      <td>22.0</td>\n",
              "      <td>9.0</td>\n",
              "      <td>NaN</td>\n",
              "      <td>NaN</td>\n",
              "      <td>946.4</td>\n",
              "    </tr>\n",
              "    <tr>\n",
              "      <th>44702</th>\n",
              "      <td>948.0</td>\n",
              "      <td>173.0</td>\n",
              "      <td>51.0</td>\n",
              "      <td>7.0</td>\n",
              "      <td>NaN</td>\n",
              "      <td>NaN</td>\n",
              "      <td>738.4</td>\n",
              "    </tr>\n",
              "    <tr>\n",
              "      <th>43341</th>\n",
              "      <td>948.0</td>\n",
              "      <td>65.0</td>\n",
              "      <td>13.0</td>\n",
              "      <td>NaN</td>\n",
              "      <td>NaN</td>\n",
              "      <td>NaN</td>\n",
              "      <td>NaN</td>\n",
              "    </tr>\n",
              "    <tr>\n",
              "      <th>44308</th>\n",
              "      <td>943.0</td>\n",
              "      <td>56.0</td>\n",
              "      <td>15.0</td>\n",
              "      <td>5.0</td>\n",
              "      <td>NaN</td>\n",
              "      <td>NaN</td>\n",
              "      <td>530.2</td>\n",
              "    </tr>\n",
              "    <tr>\n",
              "      <th>44804</th>\n",
              "      <td>940.0</td>\n",
              "      <td>57.0</td>\n",
              "      <td>12.0</td>\n",
              "      <td>NaN</td>\n",
              "      <td>NaN</td>\n",
              "      <td>NaN</td>\n",
              "      <td>NaN</td>\n",
              "    </tr>\n",
              "    <tr>\n",
              "      <th>44628</th>\n",
              "      <td>932.0</td>\n",
              "      <td>51.0</td>\n",
              "      <td>14.0</td>\n",
              "      <td>7.0</td>\n",
              "      <td>NaN</td>\n",
              "      <td>NaN</td>\n",
              "      <td>751.1</td>\n",
              "    </tr>\n",
              "    <tr>\n",
              "      <th>43319</th>\n",
              "      <td>926.0</td>\n",
              "      <td>50.0</td>\n",
              "      <td>22.0</td>\n",
              "      <td>11.0</td>\n",
              "      <td>NaN</td>\n",
              "      <td>NaN</td>\n",
              "      <td>NaN</td>\n",
              "    </tr>\n",
              "    <tr>\n",
              "      <th>44251</th>\n",
              "      <td>922.0</td>\n",
              "      <td>41.0</td>\n",
              "      <td>11.0</td>\n",
              "      <td>NaN</td>\n",
              "      <td>NaN</td>\n",
              "      <td>NaN</td>\n",
              "      <td>NaN</td>\n",
              "    </tr>\n",
              "    <tr>\n",
              "      <th>43747</th>\n",
              "      <td>879.0</td>\n",
              "      <td>43.0</td>\n",
              "      <td>20.0</td>\n",
              "      <td>12.0</td>\n",
              "      <td>NaN</td>\n",
              "      <td>NaN</td>\n",
              "      <td>NaN</td>\n",
              "    </tr>\n",
              "    <tr>\n",
              "      <th>45898</th>\n",
              "      <td>873.0</td>\n",
              "      <td>66.0</td>\n",
              "      <td>6.0</td>\n",
              "      <td>NaN</td>\n",
              "      <td>NaN</td>\n",
              "      <td>687.3</td>\n",
              "      <td>NaN</td>\n",
              "    </tr>\n",
              "    <tr>\n",
              "      <th>43501</th>\n",
              "      <td>870.0</td>\n",
              "      <td>38.0</td>\n",
              "      <td>9.0</td>\n",
              "      <td>NaN</td>\n",
              "      <td>NaN</td>\n",
              "      <td>NaN</td>\n",
              "      <td>NaN</td>\n",
              "    </tr>\n",
              "  </tbody>\n",
              "</table>\n",
              "</div>"
            ],
            "text/plain": [
              "           Population  ...  Case Count Per 100K - Last 14 Days\n",
              "Zip Code               ...                                    \n",
              "43767           986.0  ...                               608.5\n",
              "44454           982.0  ...                               509.2\n",
              "44490           970.0  ...                                 NaN\n",
              "45620           955.0  ...                               733.0\n",
              "44802           951.0  ...                               946.4\n",
              "44702           948.0  ...                               738.4\n",
              "43341           948.0  ...                                 NaN\n",
              "44308           943.0  ...                               530.2\n",
              "44804           940.0  ...                                 NaN\n",
              "44628           932.0  ...                               751.1\n",
              "43319           926.0  ...                                 NaN\n",
              "44251           922.0  ...                                 NaN\n",
              "43747           879.0  ...                                 NaN\n",
              "45898           873.0  ...                                 NaN\n",
              "43501           870.0  ...                                 NaN\n",
              "\n",
              "[15 rows x 7 columns]"
            ]
          },
          "metadata": {
            "tags": []
          },
          "execution_count": 23
        }
      ]
    },
    {
      "cell_type": "code",
      "metadata": {
        "colab": {
          "base_uri": "https://localhost:8080/",
          "height": 301
        },
        "id": "bFVUWM2FgvpR",
        "outputId": "9bda602d-4d03-40e9-ade2-fa34d69c7b21"
      },
      "source": [
        "population = data.sort_values(cols_to_sort, ascending=False).head(15)[['Population']]\r\n",
        "cases = data.sort_values(cols_to_sort, ascending=False).head(15)[['Case Count - Last 30 Days ']]\r\n",
        "\r\n",
        "fig, ax1 = plt.subplots()\r\n",
        "ax2 = ax1.twinx()\r\n",
        "\r\n",
        "width=0.4\r\n",
        "\r\n",
        "population.plot(\r\n",
        "    kind='bar',\r\n",
        "    ax=ax1,\r\n",
        "    color='blue',\r\n",
        "    width=width,\r\n",
        "    position=1\r\n",
        ")\r\n",
        "\r\n",
        "cases.plot(\r\n",
        "    kind='bar',\r\n",
        "    ax=ax2,\r\n",
        "    color='orange',\r\n",
        "    width=width,\r\n",
        "    position=2\r\n",
        ")\r\n",
        "\r\n",
        "lines, labels = ax1.get_legend_handles_labels()\r\n",
        "lines2, labels2 = ax2.get_legend_handles_labels()\r\n",
        "ax2.legend(lines + lines2, labels + labels2, loc=0)\r\n",
        "\r\n",
        "ax1.set_xlabel('Zip Code')\r\n",
        "ax1.set_ylabel('Population')\r\n",
        "ax2.set_ylabel('Cases last 30 days')\r\n",
        "\r\n",
        "plt.show()"
      ],
      "execution_count": 24,
      "outputs": [
        {
          "output_type": "display_data",
          "data": {
            "image/png": "[encoded data removed]",
            "text/plain": [
              "<Figure size 432x288 with 2 Axes>"
            ]
          },
          "metadata": {
            "tags": [],
            "needs_background": "light"
          }
        }
      ]
    },
    {
      "cell_type": "markdown",
      "metadata": {
        "id": "xkecg0C3_i1I"
      },
      "source": [
        "# Congratulations!\r\n",
        "You've just completed your first Python lesson! Below are the learning objectives for upcoming lessons."
      ]
    },
    {
      "cell_type": "markdown",
      "metadata": {
        "id": "cYFpsc12Bfcv"
      },
      "source": [
        "# Lesson 2: Flow Control with If, For, and Functions\r\n",
        "\r\n",
        "## Learning Objectives\r\n",
        "By the end of this lesson, you will be able to:\r\n",
        "\r\n",
        "1. Demonstrate if/then conditional logic to control a script\r\n",
        "1. Count data that meet specific `if` conditions using a `for` loop\r\n",
        "1. `def`ine a function to perform a repetitive task\r\n",
        "1. Create a function that takes parameters and returns a value\r\n",
        "1. Combine `if`, `for`, and `def` to modify each value in a list"
      ]
    },
    {
      "cell_type": "markdown",
      "metadata": {
        "id": "lMtxkOZeBjJC"
      },
      "source": [
        "# Lesson 3: Intro to Data Plots and Statistics in Python\r\n",
        "\r\n",
        "## Learning Objectives\r\n",
        "By the end of this lesson, you will be able to:\r\n",
        "1. Visualize data using various types of plots\r\n",
        "1. Add titles and labels to figures\r\n",
        "1. Export figures to disk as image files\r\n",
        "1. Compute basic statistics on a set of data\r\n",
        "1. List resources for questions about functions\r\n",
        "1. Generate p-values and confidence intervals"
      ]
    },
    {
      "cell_type": "markdown",
      "metadata": {
        "id": "XXPdDmoPBlRM"
      },
      "source": [
        "# Lesson 4: Calculate Power using Simulation\r\n",
        "\r\n",
        "This lesson applies the skills learned in the previous lessons to calculate power for a clinical trial for a vaccine. The Notebook for this lesson will demonstrate the step-by-step process a data scientist might take in approaching the problem and developing an algorithm to solve it.\r\n",
        "\r\n",
        "## Learning Objectives\r\n",
        "By the end of this lesson, you will be able to:\r\n",
        "\r\n",
        "1. Plan a strategy to approach the problem using pseudocode\r\n",
        "1. Generate random data for simulation\r\n",
        "1. Create a contingency table\r\n",
        "1. Combine prep work into function definitions\r\n",
        "1. Create a human-readible summary of the findings"
      ]
    },
    {
      "cell_type": "code",
      "metadata": {
        "id": "5Knac6aoBnxa"
      },
      "source": [
        ""
      ],
      "execution_count": 24,
      "outputs": []
    }
  ]
}